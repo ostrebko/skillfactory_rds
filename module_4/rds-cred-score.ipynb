{
 "cells": [
  {
   "cell_type": "markdown",
   "id": "030ededb",
   "metadata": {
    "papermill": {
     "duration": 0.03829,
     "end_time": "2021-08-09T14:55:29.529027",
     "exception": false,
     "start_time": "2021-08-09T14:55:29.490737",
     "status": "completed"
    },
    "tags": []
   },
   "source": [
    "## **1. Загрузка и предварительный анализ данных**"
   ]
  },
  {
   "cell_type": "code",
   "execution_count": 1,
   "id": "175c58f9",
   "metadata": {
    "execution": {
     "iopub.execute_input": "2021-08-09T14:55:29.609011Z",
     "iopub.status.busy": "2021-08-09T14:55:29.607940Z",
     "iopub.status.idle": "2021-08-09T14:55:30.987140Z",
     "shell.execute_reply": "2021-08-09T14:55:30.986132Z",
     "shell.execute_reply.started": "2021-08-09T14:50:07.113291Z"
    },
    "papermill": {
     "duration": 1.420558,
     "end_time": "2021-08-09T14:55:30.987339",
     "exception": false,
     "start_time": "2021-08-09T14:55:29.566781",
     "status": "completed"
    },
    "tags": []
   },
   "outputs": [],
   "source": [
    "# импорт библиотек\n",
    "from pandas import Series\n",
    "import pandas as pd\n",
    "import numpy as np\n",
    "import math\n",
    "\n",
    "\n",
    "import matplotlib.pyplot as plt\n",
    "import seaborn as sns\n",
    "\n",
    "from sklearn.feature_selection import f_classif, mutual_info_classif\n",
    "from sklearn.preprocessing import LabelEncoder, OneHotEncoder, StandardScaler\n",
    "\n",
    "from sklearn.model_selection import train_test_split\n",
    "from sklearn.linear_model import LogisticRegression\n",
    "\n",
    "\n",
    "from sklearn.metrics import confusion_matrix\n",
    "from sklearn.metrics import auc, roc_auc_score, roc_curve"
   ]
  },
  {
   "cell_type": "code",
   "execution_count": 2,
   "id": "1e7f1859",
   "metadata": {
    "_cell_guid": "b1076dfc-b9ad-4769-8c92-a6c4dae69d19",
    "_uuid": "8f2839f25d086af736a60e9eeb907d3b93b6e0e5",
    "execution": {
     "iopub.execute_input": "2021-08-09T14:55:31.066011Z",
     "iopub.status.busy": "2021-08-09T14:55:31.065422Z",
     "iopub.status.idle": "2021-08-09T14:55:31.070031Z",
     "shell.execute_reply": "2021-08-09T14:55:31.070500Z",
     "shell.execute_reply.started": "2021-08-09T14:50:08.277247Z"
    },
    "papermill": {
     "duration": 0.046283,
     "end_time": "2021-08-09T14:55:31.070675",
     "exception": false,
     "start_time": "2021-08-09T14:55:31.024392",
     "status": "completed"
    },
    "tags": []
   },
   "outputs": [
    {
     "name": "stdout",
     "output_type": "stream",
     "text": [
      "/kaggle/input/sf-dst-scoring/sample_submission.csv\n",
      "/kaggle/input/sf-dst-scoring/train.csv\n",
      "/kaggle/input/sf-dst-scoring/test.csv\n"
     ]
    }
   ],
   "source": [
    "import os\n",
    "for dirname, _, filenames in os.walk('/kaggle/input'):\n",
    "    for filename in filenames:\n",
    "        print(os.path.join(dirname, filename))"
   ]
  },
  {
   "cell_type": "code",
   "execution_count": 3,
   "id": "da33bc86",
   "metadata": {
    "execution": {
     "iopub.execute_input": "2021-08-09T14:55:31.150236Z",
     "iopub.status.busy": "2021-08-09T14:55:31.149622Z",
     "iopub.status.idle": "2021-08-09T14:55:31.433223Z",
     "shell.execute_reply": "2021-08-09T14:55:31.432603Z",
     "shell.execute_reply.started": "2021-08-09T14:50:08.288243Z"
    },
    "papermill": {
     "duration": 0.324894,
     "end_time": "2021-08-09T14:55:31.433405",
     "exception": false,
     "start_time": "2021-08-09T14:55:31.108511",
     "status": "completed"
    },
    "tags": []
   },
   "outputs": [],
   "source": [
    "train = pd.read_csv('/kaggle/input/sf-dst-scoring/train.csv')\n",
    "test = pd.read_csv('/kaggle/input/sf-dst-scoring/test.csv')\n",
    "sample_submission = pd.read_csv('/kaggle/input/sf-dst-scoring/sample_submission.csv')"
   ]
  },
  {
   "cell_type": "code",
   "execution_count": 4,
   "id": "4dd8e220",
   "metadata": {
    "execution": {
     "iopub.execute_input": "2021-08-09T14:55:31.525346Z",
     "iopub.status.busy": "2021-08-09T14:55:31.514741Z",
     "iopub.status.idle": "2021-08-09T14:55:31.549174Z",
     "shell.execute_reply": "2021-08-09T14:55:31.548586Z",
     "shell.execute_reply.started": "2021-08-09T14:50:08.590749Z"
    },
    "papermill": {
     "duration": 0.078817,
     "end_time": "2021-08-09T14:55:31.549324",
     "exception": false,
     "start_time": "2021-08-09T14:55:31.470507",
     "status": "completed"
    },
    "tags": []
   },
   "outputs": [
    {
     "data": {
      "text/html": [
       "<div>\n",
       "<style scoped>\n",
       "    .dataframe tbody tr th:only-of-type {\n",
       "        vertical-align: middle;\n",
       "    }\n",
       "\n",
       "    .dataframe tbody tr th {\n",
       "        vertical-align: top;\n",
       "    }\n",
       "\n",
       "    .dataframe thead th {\n",
       "        text-align: right;\n",
       "    }\n",
       "</style>\n",
       "<table border=\"1\" class=\"dataframe\">\n",
       "  <thead>\n",
       "    <tr style=\"text-align: right;\">\n",
       "      <th></th>\n",
       "      <th>client_id</th>\n",
       "      <th>app_date</th>\n",
       "      <th>education</th>\n",
       "      <th>sex</th>\n",
       "      <th>age</th>\n",
       "      <th>car</th>\n",
       "      <th>car_type</th>\n",
       "      <th>decline_app_cnt</th>\n",
       "      <th>good_work</th>\n",
       "      <th>score_bki</th>\n",
       "      <th>bki_request_cnt</th>\n",
       "      <th>region_rating</th>\n",
       "      <th>home_address</th>\n",
       "      <th>work_address</th>\n",
       "      <th>income</th>\n",
       "      <th>sna</th>\n",
       "      <th>first_time</th>\n",
       "      <th>foreign_passport</th>\n",
       "      <th>default</th>\n",
       "    </tr>\n",
       "  </thead>\n",
       "  <tbody>\n",
       "    <tr>\n",
       "      <th>50319</th>\n",
       "      <td>5691</td>\n",
       "      <td>12JAN2014</td>\n",
       "      <td>GRD</td>\n",
       "      <td>M</td>\n",
       "      <td>46</td>\n",
       "      <td>N</td>\n",
       "      <td>N</td>\n",
       "      <td>0</td>\n",
       "      <td>1</td>\n",
       "      <td>-2.279439</td>\n",
       "      <td>3</td>\n",
       "      <td>70</td>\n",
       "      <td>1</td>\n",
       "      <td>2</td>\n",
       "      <td>90000</td>\n",
       "      <td>1</td>\n",
       "      <td>3</td>\n",
       "      <td>Y</td>\n",
       "      <td>0</td>\n",
       "    </tr>\n",
       "    <tr>\n",
       "      <th>43008</th>\n",
       "      <td>66893</td>\n",
       "      <td>15MAR2014</td>\n",
       "      <td>SCH</td>\n",
       "      <td>F</td>\n",
       "      <td>28</td>\n",
       "      <td>N</td>\n",
       "      <td>N</td>\n",
       "      <td>0</td>\n",
       "      <td>0</td>\n",
       "      <td>-1.177225</td>\n",
       "      <td>0</td>\n",
       "      <td>70</td>\n",
       "      <td>1</td>\n",
       "      <td>3</td>\n",
       "      <td>26000</td>\n",
       "      <td>1</td>\n",
       "      <td>3</td>\n",
       "      <td>Y</td>\n",
       "      <td>0</td>\n",
       "    </tr>\n",
       "    <tr>\n",
       "      <th>45673</th>\n",
       "      <td>65211</td>\n",
       "      <td>14MAR2014</td>\n",
       "      <td>SCH</td>\n",
       "      <td>M</td>\n",
       "      <td>28</td>\n",
       "      <td>Y</td>\n",
       "      <td>N</td>\n",
       "      <td>0</td>\n",
       "      <td>0</td>\n",
       "      <td>-1.557805</td>\n",
       "      <td>1</td>\n",
       "      <td>40</td>\n",
       "      <td>1</td>\n",
       "      <td>1</td>\n",
       "      <td>50000</td>\n",
       "      <td>1</td>\n",
       "      <td>4</td>\n",
       "      <td>N</td>\n",
       "      <td>0</td>\n",
       "    </tr>\n",
       "    <tr>\n",
       "      <th>27759</th>\n",
       "      <td>75279</td>\n",
       "      <td>23MAR2014</td>\n",
       "      <td>SCH</td>\n",
       "      <td>M</td>\n",
       "      <td>38</td>\n",
       "      <td>Y</td>\n",
       "      <td>N</td>\n",
       "      <td>0</td>\n",
       "      <td>0</td>\n",
       "      <td>-1.270104</td>\n",
       "      <td>4</td>\n",
       "      <td>60</td>\n",
       "      <td>1</td>\n",
       "      <td>2</td>\n",
       "      <td>30000</td>\n",
       "      <td>1</td>\n",
       "      <td>3</td>\n",
       "      <td>N</td>\n",
       "      <td>1</td>\n",
       "    </tr>\n",
       "    <tr>\n",
       "      <th>50302</th>\n",
       "      <td>63059</td>\n",
       "      <td>12MAR2014</td>\n",
       "      <td>UGR</td>\n",
       "      <td>F</td>\n",
       "      <td>26</td>\n",
       "      <td>Y</td>\n",
       "      <td>N</td>\n",
       "      <td>0</td>\n",
       "      <td>0</td>\n",
       "      <td>-0.876236</td>\n",
       "      <td>3</td>\n",
       "      <td>40</td>\n",
       "      <td>1</td>\n",
       "      <td>2</td>\n",
       "      <td>30000</td>\n",
       "      <td>1</td>\n",
       "      <td>3</td>\n",
       "      <td>N</td>\n",
       "      <td>1</td>\n",
       "    </tr>\n",
       "  </tbody>\n",
       "</table>\n",
       "</div>"
      ],
      "text/plain": [
       "       client_id   app_date education sex  age car car_type  decline_app_cnt  \\\n",
       "50319       5691  12JAN2014       GRD   M   46   N        N                0   \n",
       "43008      66893  15MAR2014       SCH   F   28   N        N                0   \n",
       "45673      65211  14MAR2014       SCH   M   28   Y        N                0   \n",
       "27759      75279  23MAR2014       SCH   M   38   Y        N                0   \n",
       "50302      63059  12MAR2014       UGR   F   26   Y        N                0   \n",
       "\n",
       "       good_work  score_bki  bki_request_cnt  region_rating  home_address  \\\n",
       "50319          1  -2.279439                3             70             1   \n",
       "43008          0  -1.177225                0             70             1   \n",
       "45673          0  -1.557805                1             40             1   \n",
       "27759          0  -1.270104                4             60             1   \n",
       "50302          0  -0.876236                3             40             1   \n",
       "\n",
       "       work_address  income  sna  first_time foreign_passport  default  \n",
       "50319             2   90000    1           3                Y        0  \n",
       "43008             3   26000    1           3                Y        0  \n",
       "45673             1   50000    1           4                N        0  \n",
       "27759             2   30000    1           3                N        1  \n",
       "50302             2   30000    1           3                N        1  "
      ]
     },
     "execution_count": 4,
     "metadata": {},
     "output_type": "execute_result"
    }
   ],
   "source": [
    "train.sample(5)"
   ]
  },
  {
   "cell_type": "code",
   "execution_count": 5,
   "id": "89a2f080",
   "metadata": {
    "execution": {
     "iopub.execute_input": "2021-08-09T14:55:31.642825Z",
     "iopub.status.busy": "2021-08-09T14:55:31.642104Z",
     "iopub.status.idle": "2021-08-09T14:55:31.645319Z",
     "shell.execute_reply": "2021-08-09T14:55:31.645739Z",
     "shell.execute_reply.started": "2021-08-09T14:50:08.627828Z"
    },
    "papermill": {
     "duration": 0.058753,
     "end_time": "2021-08-09T14:55:31.645920",
     "exception": false,
     "start_time": "2021-08-09T14:55:31.587167",
     "status": "completed"
    },
    "tags": []
   },
   "outputs": [
    {
     "data": {
      "text/html": [
       "<div>\n",
       "<style scoped>\n",
       "    .dataframe tbody tr th:only-of-type {\n",
       "        vertical-align: middle;\n",
       "    }\n",
       "\n",
       "    .dataframe tbody tr th {\n",
       "        vertical-align: top;\n",
       "    }\n",
       "\n",
       "    .dataframe thead th {\n",
       "        text-align: right;\n",
       "    }\n",
       "</style>\n",
       "<table border=\"1\" class=\"dataframe\">\n",
       "  <thead>\n",
       "    <tr style=\"text-align: right;\">\n",
       "      <th></th>\n",
       "      <th>client_id</th>\n",
       "      <th>app_date</th>\n",
       "      <th>education</th>\n",
       "      <th>sex</th>\n",
       "      <th>age</th>\n",
       "      <th>car</th>\n",
       "      <th>car_type</th>\n",
       "      <th>decline_app_cnt</th>\n",
       "      <th>good_work</th>\n",
       "      <th>score_bki</th>\n",
       "      <th>bki_request_cnt</th>\n",
       "      <th>region_rating</th>\n",
       "      <th>home_address</th>\n",
       "      <th>work_address</th>\n",
       "      <th>income</th>\n",
       "      <th>sna</th>\n",
       "      <th>first_time</th>\n",
       "      <th>foreign_passport</th>\n",
       "    </tr>\n",
       "  </thead>\n",
       "  <tbody>\n",
       "    <tr>\n",
       "      <th>4525</th>\n",
       "      <td>12473</td>\n",
       "      <td>20JAN2014</td>\n",
       "      <td>SCH</td>\n",
       "      <td>F</td>\n",
       "      <td>53</td>\n",
       "      <td>Y</td>\n",
       "      <td>N</td>\n",
       "      <td>0</td>\n",
       "      <td>1</td>\n",
       "      <td>-2.637376</td>\n",
       "      <td>0</td>\n",
       "      <td>50</td>\n",
       "      <td>2</td>\n",
       "      <td>3</td>\n",
       "      <td>30000</td>\n",
       "      <td>4</td>\n",
       "      <td>1</td>\n",
       "      <td>N</td>\n",
       "    </tr>\n",
       "    <tr>\n",
       "      <th>27959</th>\n",
       "      <td>99507</td>\n",
       "      <td>16APR2014</td>\n",
       "      <td>SCH</td>\n",
       "      <td>M</td>\n",
       "      <td>24</td>\n",
       "      <td>N</td>\n",
       "      <td>N</td>\n",
       "      <td>0</td>\n",
       "      <td>0</td>\n",
       "      <td>-2.253907</td>\n",
       "      <td>1</td>\n",
       "      <td>50</td>\n",
       "      <td>2</td>\n",
       "      <td>3</td>\n",
       "      <td>20000</td>\n",
       "      <td>2</td>\n",
       "      <td>1</td>\n",
       "      <td>N</td>\n",
       "    </tr>\n",
       "    <tr>\n",
       "      <th>12250</th>\n",
       "      <td>69403</td>\n",
       "      <td>18MAR2014</td>\n",
       "      <td>SCH</td>\n",
       "      <td>F</td>\n",
       "      <td>31</td>\n",
       "      <td>N</td>\n",
       "      <td>N</td>\n",
       "      <td>0</td>\n",
       "      <td>0</td>\n",
       "      <td>-2.326917</td>\n",
       "      <td>0</td>\n",
       "      <td>40</td>\n",
       "      <td>2</td>\n",
       "      <td>3</td>\n",
       "      <td>15000</td>\n",
       "      <td>2</td>\n",
       "      <td>3</td>\n",
       "      <td>N</td>\n",
       "    </tr>\n",
       "    <tr>\n",
       "      <th>25609</th>\n",
       "      <td>76351</td>\n",
       "      <td>24MAR2014</td>\n",
       "      <td>SCH</td>\n",
       "      <td>F</td>\n",
       "      <td>61</td>\n",
       "      <td>N</td>\n",
       "      <td>N</td>\n",
       "      <td>0</td>\n",
       "      <td>0</td>\n",
       "      <td>-2.156347</td>\n",
       "      <td>3</td>\n",
       "      <td>40</td>\n",
       "      <td>1</td>\n",
       "      <td>2</td>\n",
       "      <td>19000</td>\n",
       "      <td>1</td>\n",
       "      <td>3</td>\n",
       "      <td>N</td>\n",
       "    </tr>\n",
       "    <tr>\n",
       "      <th>19889</th>\n",
       "      <td>52974</td>\n",
       "      <td>01MAR2014</td>\n",
       "      <td>SCH</td>\n",
       "      <td>M</td>\n",
       "      <td>58</td>\n",
       "      <td>N</td>\n",
       "      <td>N</td>\n",
       "      <td>0</td>\n",
       "      <td>0</td>\n",
       "      <td>-2.432671</td>\n",
       "      <td>0</td>\n",
       "      <td>40</td>\n",
       "      <td>1</td>\n",
       "      <td>1</td>\n",
       "      <td>25000</td>\n",
       "      <td>3</td>\n",
       "      <td>3</td>\n",
       "      <td>N</td>\n",
       "    </tr>\n",
       "  </tbody>\n",
       "</table>\n",
       "</div>"
      ],
      "text/plain": [
       "       client_id   app_date education sex  age car car_type  decline_app_cnt  \\\n",
       "4525       12473  20JAN2014       SCH   F   53   Y        N                0   \n",
       "27959      99507  16APR2014       SCH   M   24   N        N                0   \n",
       "12250      69403  18MAR2014       SCH   F   31   N        N                0   \n",
       "25609      76351  24MAR2014       SCH   F   61   N        N                0   \n",
       "19889      52974  01MAR2014       SCH   M   58   N        N                0   \n",
       "\n",
       "       good_work  score_bki  bki_request_cnt  region_rating  home_address  \\\n",
       "4525           1  -2.637376                0             50             2   \n",
       "27959          0  -2.253907                1             50             2   \n",
       "12250          0  -2.326917                0             40             2   \n",
       "25609          0  -2.156347                3             40             1   \n",
       "19889          0  -2.432671                0             40             1   \n",
       "\n",
       "       work_address  income  sna  first_time foreign_passport  \n",
       "4525              3   30000    4           1                N  \n",
       "27959             3   20000    2           1                N  \n",
       "12250             3   15000    2           3                N  \n",
       "25609             2   19000    1           3                N  \n",
       "19889             1   25000    3           3                N  "
      ]
     },
     "execution_count": 5,
     "metadata": {},
     "output_type": "execute_result"
    }
   ],
   "source": [
    "test.sample(5)"
   ]
  },
  {
   "cell_type": "code",
   "execution_count": 6,
   "id": "4d21d5d7",
   "metadata": {
    "execution": {
     "iopub.execute_input": "2021-08-09T14:55:31.724896Z",
     "iopub.status.busy": "2021-08-09T14:55:31.724249Z",
     "iopub.status.idle": "2021-08-09T14:55:31.734999Z",
     "shell.execute_reply": "2021-08-09T14:55:31.735540Z",
     "shell.execute_reply.started": "2021-08-09T14:50:08.648173Z"
    },
    "papermill": {
     "duration": 0.051866,
     "end_time": "2021-08-09T14:55:31.735711",
     "exception": false,
     "start_time": "2021-08-09T14:55:31.683845",
     "status": "completed"
    },
    "tags": []
   },
   "outputs": [
    {
     "data": {
      "text/html": [
       "<div>\n",
       "<style scoped>\n",
       "    .dataframe tbody tr th:only-of-type {\n",
       "        vertical-align: middle;\n",
       "    }\n",
       "\n",
       "    .dataframe tbody tr th {\n",
       "        vertical-align: top;\n",
       "    }\n",
       "\n",
       "    .dataframe thead th {\n",
       "        text-align: right;\n",
       "    }\n",
       "</style>\n",
       "<table border=\"1\" class=\"dataframe\">\n",
       "  <thead>\n",
       "    <tr style=\"text-align: right;\">\n",
       "      <th></th>\n",
       "      <th>client_id</th>\n",
       "      <th>default</th>\n",
       "    </tr>\n",
       "  </thead>\n",
       "  <tbody>\n",
       "    <tr>\n",
       "      <th>22937</th>\n",
       "      <td>28318</td>\n",
       "      <td>0.551959</td>\n",
       "    </tr>\n",
       "    <tr>\n",
       "      <th>10665</th>\n",
       "      <td>21636</td>\n",
       "      <td>0.523003</td>\n",
       "    </tr>\n",
       "    <tr>\n",
       "      <th>1011</th>\n",
       "      <td>12516</td>\n",
       "      <td>0.855557</td>\n",
       "    </tr>\n",
       "    <tr>\n",
       "      <th>7121</th>\n",
       "      <td>107849</td>\n",
       "      <td>0.838257</td>\n",
       "    </tr>\n",
       "    <tr>\n",
       "      <th>23412</th>\n",
       "      <td>36861</td>\n",
       "      <td>0.015016</td>\n",
       "    </tr>\n",
       "  </tbody>\n",
       "</table>\n",
       "</div>"
      ],
      "text/plain": [
       "       client_id   default\n",
       "22937      28318  0.551959\n",
       "10665      21636  0.523003\n",
       "1011       12516  0.855557\n",
       "7121      107849  0.838257\n",
       "23412      36861  0.015016"
      ]
     },
     "execution_count": 6,
     "metadata": {},
     "output_type": "execute_result"
    }
   ],
   "source": [
    "sample_submission.sample(5)"
   ]
  },
  {
   "cell_type": "code",
   "execution_count": 7,
   "id": "32371994",
   "metadata": {
    "execution": {
     "iopub.execute_input": "2021-08-09T14:55:31.816689Z",
     "iopub.status.busy": "2021-08-09T14:55:31.815774Z",
     "iopub.status.idle": "2021-08-09T14:55:31.821509Z",
     "shell.execute_reply": "2021-08-09T14:55:31.821910Z",
     "shell.execute_reply.started": "2021-08-09T14:50:08.658614Z"
    },
    "papermill": {
     "duration": 0.048022,
     "end_time": "2021-08-09T14:55:31.822077",
     "exception": false,
     "start_time": "2021-08-09T14:55:31.774055",
     "status": "completed"
    },
    "tags": []
   },
   "outputs": [
    {
     "data": {
      "text/plain": [
       "Index(['client_id', 'app_date', 'education', 'sex', 'age', 'car', 'car_type',\n",
       "       'decline_app_cnt', 'good_work', 'score_bki', 'bki_request_cnt',\n",
       "       'region_rating', 'home_address', 'work_address', 'income', 'sna',\n",
       "       'first_time', 'foreign_passport', 'default'],\n",
       "      dtype='object')"
      ]
     },
     "execution_count": 7,
     "metadata": {},
     "output_type": "execute_result"
    }
   ],
   "source": [
    "train.columns"
   ]
  },
  {
   "cell_type": "code",
   "execution_count": 8,
   "id": "563ba1cd",
   "metadata": {
    "execution": {
     "iopub.execute_input": "2021-08-09T14:55:31.902661Z",
     "iopub.status.busy": "2021-08-09T14:55:31.901645Z",
     "iopub.status.idle": "2021-08-09T14:55:31.907632Z",
     "shell.execute_reply": "2021-08-09T14:55:31.908026Z",
     "shell.execute_reply.started": "2021-08-09T14:50:08.672338Z"
    },
    "papermill": {
     "duration": 0.047679,
     "end_time": "2021-08-09T14:55:31.908194",
     "exception": false,
     "start_time": "2021-08-09T14:55:31.860515",
     "status": "completed"
    },
    "tags": []
   },
   "outputs": [
    {
     "data": {
      "text/plain": [
       "Index(['client_id', 'app_date', 'education', 'sex', 'age', 'car', 'car_type',\n",
       "       'decline_app_cnt', 'good_work', 'score_bki', 'bki_request_cnt',\n",
       "       'region_rating', 'home_address', 'work_address', 'income', 'sna',\n",
       "       'first_time', 'foreign_passport'],\n",
       "      dtype='object')"
      ]
     },
     "execution_count": 8,
     "metadata": {},
     "output_type": "execute_result"
    }
   ],
   "source": [
    "test.columns"
   ]
  },
  {
   "cell_type": "markdown",
   "id": "43fd6690",
   "metadata": {
    "papermill": {
     "duration": 0.039146,
     "end_time": "2021-08-09T14:55:31.986026",
     "exception": false,
     "start_time": "2021-08-09T14:55:31.946880",
     "status": "completed"
    },
    "tags": []
   },
   "source": [
    "### **Описания исходных признаков:**  \n",
    "\n",
    "  **client_id** - идентификатор клиента  \n",
    "  **education** - уровень образования  \n",
    "  **sex** - пол заемщика  \n",
    "  **age** - возраст заемщика  \n",
    "  **car** - флаг наличия автомобиля  \n",
    "  **car_type** - флаг автомобиля иномарки  \n",
    "  **decline_app_cnt** - количество отказанных прошлых заявок  \n",
    "  **good_work** - флаг наличия “хорошей” работы  \n",
    "  **bki_request_cnt** - количество запросов в БКИ  \n",
    "  **home_address** - категоризатор домашнего адреса  \n",
    "  **work_address** - категоризатор рабочего адреса  \n",
    "  **income** - доход заемщика  \n",
    "  **foreign_passport** - наличие загранпаспорта  \n",
    "  **sna** - связь заемщика с клиентами банка  \n",
    "  **first_time** - давность наличия информации о заемщике  \n",
    "  **score_bki** - скоринговый балл по данным из БКИ  \n",
    "  **region_rating** - рейтинг региона  \n",
    "  **app_date** - дата подачи заявки  \n",
    "  **default** - флаг дефолта по кредиту"
   ]
  },
  {
   "cell_type": "markdown",
   "id": "469dc7e8",
   "metadata": {
    "papermill": {
     "duration": 0.038682,
     "end_time": "2021-08-09T14:55:32.063916",
     "exception": false,
     "start_time": "2021-08-09T14:55:32.025234",
     "status": "completed"
    },
    "tags": []
   },
   "source": [
    "### **Анализ распределения определяемой переменной**"
   ]
  },
  {
   "cell_type": "code",
   "execution_count": 9,
   "id": "3e1cfbdf",
   "metadata": {
    "execution": {
     "iopub.execute_input": "2021-08-09T14:55:32.150340Z",
     "iopub.status.busy": "2021-08-09T14:55:32.149714Z",
     "iopub.status.idle": "2021-08-09T14:55:32.156177Z",
     "shell.execute_reply": "2021-08-09T14:55:32.156630Z",
     "shell.execute_reply.started": "2021-08-09T14:50:08.680094Z"
    },
    "papermill": {
     "duration": 0.053359,
     "end_time": "2021-08-09T14:55:32.156816",
     "exception": false,
     "start_time": "2021-08-09T14:55:32.103457",
     "status": "completed"
    },
    "tags": []
   },
   "outputs": [
    {
     "data": {
      "text/plain": [
       "0    64427\n",
       "1     9372\n",
       "Name: default, dtype: int64"
      ]
     },
     "execution_count": 9,
     "metadata": {},
     "output_type": "execute_result"
    }
   ],
   "source": [
    "# обучающая выборка несбалансирована - использовать accuracy в метрике - некорректно\n",
    "train.default.value_counts()"
   ]
  },
  {
   "cell_type": "markdown",
   "id": "ac4f1141",
   "metadata": {
    "papermill": {
     "duration": 0.057029,
     "end_time": "2021-08-09T14:55:32.260799",
     "exception": false,
     "start_time": "2021-08-09T14:55:32.203770",
     "status": "completed"
    },
    "tags": []
   },
   "source": [
    "### **Анализ пустых значений в датасете train**"
   ]
  },
  {
   "cell_type": "code",
   "execution_count": 10,
   "id": "ab80282f",
   "metadata": {
    "execution": {
     "iopub.execute_input": "2021-08-09T14:55:32.364919Z",
     "iopub.status.busy": "2021-08-09T14:55:32.357692Z",
     "iopub.status.idle": "2021-08-09T14:55:32.368619Z",
     "shell.execute_reply": "2021-08-09T14:55:32.369032Z",
     "shell.execute_reply.started": "2021-08-09T14:50:08.695450Z"
    },
    "papermill": {
     "duration": 0.062681,
     "end_time": "2021-08-09T14:55:32.369203",
     "exception": false,
     "start_time": "2021-08-09T14:55:32.306522",
     "status": "completed"
    },
    "tags": []
   },
   "outputs": [
    {
     "data": {
      "text/html": [
       "<div>\n",
       "<style scoped>\n",
       "    .dataframe tbody tr th:only-of-type {\n",
       "        vertical-align: middle;\n",
       "    }\n",
       "\n",
       "    .dataframe tbody tr th {\n",
       "        vertical-align: top;\n",
       "    }\n",
       "\n",
       "    .dataframe thead th {\n",
       "        text-align: right;\n",
       "    }\n",
       "</style>\n",
       "<table border=\"1\" class=\"dataframe\">\n",
       "  <thead>\n",
       "    <tr style=\"text-align: right;\">\n",
       "      <th></th>\n",
       "      <th>client_id</th>\n",
       "      <th>app_date</th>\n",
       "      <th>education</th>\n",
       "      <th>sex</th>\n",
       "      <th>age</th>\n",
       "      <th>car</th>\n",
       "      <th>car_type</th>\n",
       "      <th>decline_app_cnt</th>\n",
       "      <th>good_work</th>\n",
       "      <th>score_bki</th>\n",
       "      <th>bki_request_cnt</th>\n",
       "      <th>region_rating</th>\n",
       "      <th>home_address</th>\n",
       "      <th>work_address</th>\n",
       "      <th>income</th>\n",
       "      <th>sna</th>\n",
       "      <th>first_time</th>\n",
       "      <th>foreign_passport</th>\n",
       "      <th>default</th>\n",
       "    </tr>\n",
       "  </thead>\n",
       "  <tbody>\n",
       "    <tr>\n",
       "      <th>0</th>\n",
       "      <td>25905</td>\n",
       "      <td>01FEB2014</td>\n",
       "      <td>SCH</td>\n",
       "      <td>M</td>\n",
       "      <td>62</td>\n",
       "      <td>Y</td>\n",
       "      <td>Y</td>\n",
       "      <td>0</td>\n",
       "      <td>0</td>\n",
       "      <td>-2.008753</td>\n",
       "      <td>1</td>\n",
       "      <td>50</td>\n",
       "      <td>1</td>\n",
       "      <td>2</td>\n",
       "      <td>18000</td>\n",
       "      <td>4</td>\n",
       "      <td>1</td>\n",
       "      <td>N</td>\n",
       "      <td>0</td>\n",
       "    </tr>\n",
       "    <tr>\n",
       "      <th>1</th>\n",
       "      <td>63161</td>\n",
       "      <td>12MAR2014</td>\n",
       "      <td>SCH</td>\n",
       "      <td>F</td>\n",
       "      <td>59</td>\n",
       "      <td>N</td>\n",
       "      <td>N</td>\n",
       "      <td>0</td>\n",
       "      <td>0</td>\n",
       "      <td>-1.532276</td>\n",
       "      <td>3</td>\n",
       "      <td>50</td>\n",
       "      <td>2</td>\n",
       "      <td>3</td>\n",
       "      <td>19000</td>\n",
       "      <td>4</td>\n",
       "      <td>1</td>\n",
       "      <td>N</td>\n",
       "      <td>0</td>\n",
       "    </tr>\n",
       "    <tr>\n",
       "      <th>2</th>\n",
       "      <td>25887</td>\n",
       "      <td>01FEB2014</td>\n",
       "      <td>SCH</td>\n",
       "      <td>M</td>\n",
       "      <td>25</td>\n",
       "      <td>Y</td>\n",
       "      <td>N</td>\n",
       "      <td>2</td>\n",
       "      <td>0</td>\n",
       "      <td>-1.408142</td>\n",
       "      <td>1</td>\n",
       "      <td>80</td>\n",
       "      <td>1</td>\n",
       "      <td>2</td>\n",
       "      <td>30000</td>\n",
       "      <td>1</td>\n",
       "      <td>4</td>\n",
       "      <td>Y</td>\n",
       "      <td>0</td>\n",
       "    </tr>\n",
       "    <tr>\n",
       "      <th>3</th>\n",
       "      <td>16222</td>\n",
       "      <td>23JAN2014</td>\n",
       "      <td>SCH</td>\n",
       "      <td>F</td>\n",
       "      <td>53</td>\n",
       "      <td>N</td>\n",
       "      <td>N</td>\n",
       "      <td>0</td>\n",
       "      <td>0</td>\n",
       "      <td>-2.057471</td>\n",
       "      <td>2</td>\n",
       "      <td>50</td>\n",
       "      <td>2</td>\n",
       "      <td>3</td>\n",
       "      <td>10000</td>\n",
       "      <td>1</td>\n",
       "      <td>3</td>\n",
       "      <td>N</td>\n",
       "      <td>0</td>\n",
       "    </tr>\n",
       "    <tr>\n",
       "      <th>4</th>\n",
       "      <td>101655</td>\n",
       "      <td>18APR2014</td>\n",
       "      <td>GRD</td>\n",
       "      <td>M</td>\n",
       "      <td>48</td>\n",
       "      <td>N</td>\n",
       "      <td>N</td>\n",
       "      <td>0</td>\n",
       "      <td>1</td>\n",
       "      <td>-1.244723</td>\n",
       "      <td>1</td>\n",
       "      <td>60</td>\n",
       "      <td>2</td>\n",
       "      <td>3</td>\n",
       "      <td>30000</td>\n",
       "      <td>1</td>\n",
       "      <td>4</td>\n",
       "      <td>Y</td>\n",
       "      <td>0</td>\n",
       "    </tr>\n",
       "  </tbody>\n",
       "</table>\n",
       "</div>"
      ],
      "text/plain": [
       "   client_id   app_date education sex  age car car_type  decline_app_cnt  \\\n",
       "0      25905  01FEB2014       SCH   M   62   Y        Y                0   \n",
       "1      63161  12MAR2014       SCH   F   59   N        N                0   \n",
       "2      25887  01FEB2014       SCH   M   25   Y        N                2   \n",
       "3      16222  23JAN2014       SCH   F   53   N        N                0   \n",
       "4     101655  18APR2014       GRD   M   48   N        N                0   \n",
       "\n",
       "   good_work  score_bki  bki_request_cnt  region_rating  home_address  \\\n",
       "0          0  -2.008753                1             50             1   \n",
       "1          0  -1.532276                3             50             2   \n",
       "2          0  -1.408142                1             80             1   \n",
       "3          0  -2.057471                2             50             2   \n",
       "4          1  -1.244723                1             60             2   \n",
       "\n",
       "   work_address  income  sna  first_time foreign_passport  default  \n",
       "0             2   18000    4           1                N        0  \n",
       "1             3   19000    4           1                N        0  \n",
       "2             2   30000    1           4                Y        0  \n",
       "3             3   10000    1           3                N        0  \n",
       "4             3   30000    1           4                Y        0  "
      ]
     },
     "execution_count": 10,
     "metadata": {},
     "output_type": "execute_result"
    }
   ],
   "source": [
    "train.head()"
   ]
  },
  {
   "cell_type": "code",
   "execution_count": 11,
   "id": "3db28a57",
   "metadata": {
    "execution": {
     "iopub.execute_input": "2021-08-09T14:55:32.452321Z",
     "iopub.status.busy": "2021-08-09T14:55:32.451354Z",
     "iopub.status.idle": "2021-08-09T14:55:32.457613Z",
     "shell.execute_reply": "2021-08-09T14:55:32.456988Z",
     "shell.execute_reply.started": "2021-08-09T14:50:08.714671Z"
    },
    "papermill": {
     "duration": 0.048493,
     "end_time": "2021-08-09T14:55:32.457751",
     "exception": false,
     "start_time": "2021-08-09T14:55:32.409258",
     "status": "completed"
    },
    "tags": []
   },
   "outputs": [
    {
     "name": "stdout",
     "output_type": "stream",
     "text": [
      "Размер датасета train:  (73799, 19)\n"
     ]
    }
   ],
   "source": [
    "# информация по колонкам датасета train\n",
    "#train.info()\n",
    "#print()\n",
    "print('Размер датасета train: ', train.shape)"
   ]
  },
  {
   "cell_type": "code",
   "execution_count": 12,
   "id": "5f987aff",
   "metadata": {
    "execution": {
     "iopub.execute_input": "2021-08-09T14:55:32.542740Z",
     "iopub.status.busy": "2021-08-09T14:55:32.542106Z",
     "iopub.status.idle": "2021-08-09T14:55:32.569121Z",
     "shell.execute_reply": "2021-08-09T14:55:32.568502Z",
     "shell.execute_reply.started": "2021-08-09T14:50:08.724538Z"
    },
    "papermill": {
     "duration": 0.071787,
     "end_time": "2021-08-09T14:55:32.569271",
     "exception": false,
     "start_time": "2021-08-09T14:55:32.497484",
     "status": "completed"
    },
    "tags": []
   },
   "outputs": [
    {
     "data": {
      "text/plain": [
       "client_id             0\n",
       "app_date              0\n",
       "education           307\n",
       "sex                   0\n",
       "age                   0\n",
       "car                   0\n",
       "car_type              0\n",
       "decline_app_cnt       0\n",
       "good_work             0\n",
       "score_bki             0\n",
       "bki_request_cnt       0\n",
       "region_rating         0\n",
       "home_address          0\n",
       "work_address          0\n",
       "income                0\n",
       "sna                   0\n",
       "first_time            0\n",
       "foreign_passport      0\n",
       "default               0\n",
       "dtype: int64"
      ]
     },
     "execution_count": 12,
     "metadata": {},
     "output_type": "execute_result"
    }
   ],
   "source": [
    "# смотрим количество пропусков в датасете train\n",
    "train.isnull().sum()"
   ]
  },
  {
   "cell_type": "code",
   "execution_count": 13,
   "id": "93fdef49",
   "metadata": {
    "execution": {
     "iopub.execute_input": "2021-08-09T14:55:32.658780Z",
     "iopub.status.busy": "2021-08-09T14:55:32.658053Z",
     "iopub.status.idle": "2021-08-09T14:55:32.718681Z",
     "shell.execute_reply": "2021-08-09T14:55:32.719117Z",
     "shell.execute_reply.started": "2021-08-09T14:50:08.781585Z"
    },
    "papermill": {
     "duration": 0.109752,
     "end_time": "2021-08-09T14:55:32.719323",
     "exception": false,
     "start_time": "2021-08-09T14:55:32.609571",
     "status": "completed"
    },
    "tags": []
   },
   "outputs": [],
   "source": [
    "# Заполним наиболее встречающимися данными:\n",
    "item_to_fill_train = train[train['education'].isnull()==False].education.value_counts().index[0]\n",
    "train.fillna(item_to_fill_train, inplace = True)\n",
    "\n",
    "# train.isnull().sum()\n",
    "#train.education.unique()"
   ]
  },
  {
   "cell_type": "markdown",
   "id": "a766ee05",
   "metadata": {
    "papermill": {
     "duration": 0.041149,
     "end_time": "2021-08-09T14:55:32.801008",
     "exception": false,
     "start_time": "2021-08-09T14:55:32.759859",
     "status": "completed"
    },
    "tags": []
   },
   "source": [
    "### **Анализ пустых значений в датасете test**"
   ]
  },
  {
   "cell_type": "code",
   "execution_count": 14,
   "id": "a2274dd3",
   "metadata": {
    "execution": {
     "iopub.execute_input": "2021-08-09T14:55:32.884995Z",
     "iopub.status.busy": "2021-08-09T14:55:32.884066Z",
     "iopub.status.idle": "2021-08-09T14:55:32.889581Z",
     "shell.execute_reply": "2021-08-09T14:55:32.890012Z",
     "shell.execute_reply.started": "2021-08-09T14:50:08.877340Z"
    },
    "papermill": {
     "duration": 0.048887,
     "end_time": "2021-08-09T14:55:32.890182",
     "exception": false,
     "start_time": "2021-08-09T14:55:32.841295",
     "status": "completed"
    },
    "tags": []
   },
   "outputs": [
    {
     "name": "stdout",
     "output_type": "stream",
     "text": [
      "Размер датасета test:  (36349, 18)\n"
     ]
    }
   ],
   "source": [
    "#test.info()\n",
    "#print()\n",
    "print('Размер датасета test: ', test.shape)"
   ]
  },
  {
   "cell_type": "code",
   "execution_count": 15,
   "id": "42793f22",
   "metadata": {
    "execution": {
     "iopub.execute_input": "2021-08-09T14:55:32.984822Z",
     "iopub.status.busy": "2021-08-09T14:55:32.976142Z",
     "iopub.status.idle": "2021-08-09T14:55:32.993871Z",
     "shell.execute_reply": "2021-08-09T14:55:32.993344Z",
     "shell.execute_reply.started": "2021-08-09T14:50:08.882986Z"
    },
    "papermill": {
     "duration": 0.063024,
     "end_time": "2021-08-09T14:55:32.994005",
     "exception": false,
     "start_time": "2021-08-09T14:55:32.930981",
     "status": "completed"
    },
    "tags": []
   },
   "outputs": [
    {
     "data": {
      "text/plain": [
       "client_id             0\n",
       "app_date              0\n",
       "education           171\n",
       "sex                   0\n",
       "age                   0\n",
       "car                   0\n",
       "car_type              0\n",
       "decline_app_cnt       0\n",
       "good_work             0\n",
       "score_bki             0\n",
       "bki_request_cnt       0\n",
       "region_rating         0\n",
       "home_address          0\n",
       "work_address          0\n",
       "income                0\n",
       "sna                   0\n",
       "first_time            0\n",
       "foreign_passport      0\n",
       "dtype: int64"
      ]
     },
     "execution_count": 15,
     "metadata": {},
     "output_type": "execute_result"
    }
   ],
   "source": [
    "test.isnull().sum()"
   ]
  },
  {
   "cell_type": "code",
   "execution_count": 16,
   "id": "681ade6f",
   "metadata": {
    "execution": {
     "iopub.execute_input": "2021-08-09T14:55:33.083418Z",
     "iopub.status.busy": "2021-08-09T14:55:33.082269Z",
     "iopub.status.idle": "2021-08-09T14:55:33.103909Z",
     "shell.execute_reply": "2021-08-09T14:55:33.104434Z",
     "shell.execute_reply.started": "2021-08-09T14:50:08.918868Z"
    },
    "papermill": {
     "duration": 0.069825,
     "end_time": "2021-08-09T14:55:33.104612",
     "exception": false,
     "start_time": "2021-08-09T14:55:33.034787",
     "status": "completed"
    },
    "tags": []
   },
   "outputs": [],
   "source": [
    "# Заполним наиболее встречающимися данными:\n",
    "item_to_fill_test = test[test['education'].isnull()==False].education.value_counts().index[0]\n",
    "test.fillna(item_to_fill_test, inplace = True)\n",
    "\n",
    "#test.isnull().sum()\n",
    "#test.education.unique()"
   ]
  },
  {
   "cell_type": "markdown",
   "id": "39d46d5f",
   "metadata": {
    "papermill": {
     "duration": 0.040651,
     "end_time": "2021-08-09T14:55:33.185783",
     "exception": false,
     "start_time": "2021-08-09T14:55:33.145132",
     "status": "completed"
    },
    "tags": []
   },
   "source": [
    "#### **Исходные признаки датасетов train и test сгруппируем в три категории по типу их обработки (категориальные, бинарные и числовые) для дальнейшего более удобного анализа**"
   ]
  },
  {
   "cell_type": "code",
   "execution_count": 17,
   "id": "77a7a56d",
   "metadata": {
    "execution": {
     "iopub.execute_input": "2021-08-09T14:55:33.272559Z",
     "iopub.status.busy": "2021-08-09T14:55:33.271648Z",
     "iopub.status.idle": "2021-08-09T14:55:33.274192Z",
     "shell.execute_reply": "2021-08-09T14:55:33.274614Z",
     "shell.execute_reply.started": "2021-08-09T14:50:08.962605Z"
    },
    "papermill": {
     "duration": 0.048508,
     "end_time": "2021-08-09T14:55:33.274792",
     "exception": false,
     "start_time": "2021-08-09T14:55:33.226284",
     "status": "completed"
    },
    "tags": []
   },
   "outputs": [],
   "source": [
    "bin_cols = ['sex', 'car', 'car_type', 'good_work', 'foreign_passport'] # \n",
    "cat_cols = ['education', 'home_address', 'work_address', 'sna', 'first_time'] # \n",
    "num_cols = ['age', 'decline_app_cnt', 'score_bki', \n",
    "            'bki_request_cnt',  'region_rating', 'income'] # "
   ]
  },
  {
   "cell_type": "markdown",
   "id": "7a46b8c3",
   "metadata": {
    "papermill": {
     "duration": 0.041003,
     "end_time": "2021-08-09T14:55:33.356912",
     "exception": false,
     "start_time": "2021-08-09T14:55:33.315909",
     "status": "completed"
    },
    "tags": []
   },
   "source": [
    "#### **Анализ и преобразование признака app_date**"
   ]
  },
  {
   "cell_type": "code",
   "execution_count": 18,
   "id": "0386eb68",
   "metadata": {
    "execution": {
     "iopub.execute_input": "2021-08-09T14:55:33.443471Z",
     "iopub.status.busy": "2021-08-09T14:55:33.442827Z",
     "iopub.status.idle": "2021-08-09T14:55:42.221587Z",
     "shell.execute_reply": "2021-08-09T14:55:42.221016Z",
     "shell.execute_reply.started": "2021-08-09T14:50:08.972375Z"
    },
    "papermill": {
     "duration": 8.824053,
     "end_time": "2021-08-09T14:55:42.221747",
     "exception": false,
     "start_time": "2021-08-09T14:55:33.397694",
     "status": "completed"
    },
    "tags": []
   },
   "outputs": [],
   "source": [
    "train['app_date'] = train.app_date.apply(pd.Timestamp)\n",
    "test['app_date'] = test.app_date.apply(pd.Timestamp)"
   ]
  },
  {
   "cell_type": "code",
   "execution_count": 19,
   "id": "c489f633",
   "metadata": {
    "execution": {
     "iopub.execute_input": "2021-08-09T14:55:42.309666Z",
     "iopub.status.busy": "2021-08-09T14:55:42.309042Z",
     "iopub.status.idle": "2021-08-09T14:55:42.320111Z",
     "shell.execute_reply": "2021-08-09T14:55:42.320598Z",
     "shell.execute_reply.started": "2021-08-09T14:50:18.585372Z"
    },
    "papermill": {
     "duration": 0.057811,
     "end_time": "2021-08-09T14:55:42.320789",
     "exception": false,
     "start_time": "2021-08-09T14:55:42.262978",
     "status": "completed"
    },
    "tags": []
   },
   "outputs": [],
   "source": [
    "# генерируем новые признаки по app_date: \n",
    "# 1. разница между текущей датой и самой ранней заявкой днях может иметь значение, \n",
    "# если после определенной даты стали более жесткие требования на выдачу кредита\n",
    "train_app_date_min = train['app_date'].min()\n",
    "test_app_date_min = test['app_date'].min()\n",
    "\n",
    "train['delta_days'] = (train['app_date'] - train_app_date_min).dt.days\n",
    "test['delta_days'] = (test['app_date'] - test_app_date_min).dt.days\n",
    "\n",
    "num_cols.append('delta_days')  # добавляем к списку с числовыми признаками"
   ]
  },
  {
   "cell_type": "code",
   "execution_count": 20,
   "id": "91700bd9",
   "metadata": {
    "execution": {
     "iopub.execute_input": "2021-08-09T14:55:42.408182Z",
     "iopub.status.busy": "2021-08-09T14:55:42.407533Z",
     "iopub.status.idle": "2021-08-09T14:55:42.425669Z",
     "shell.execute_reply": "2021-08-09T14:55:42.425101Z",
     "shell.execute_reply.started": "2021-08-09T14:50:18.603173Z"
    },
    "papermill": {
     "duration": 0.063778,
     "end_time": "2021-08-09T14:55:42.425807",
     "exception": false,
     "start_time": "2021-08-09T14:55:42.362029",
     "status": "completed"
    },
    "tags": []
   },
   "outputs": [],
   "source": [
    "## генерируем новые признаки по app_date: день недели может иметь значение - \n",
    "## в определенные дни недели (ex: среда) могут выдавать чаще, чем в другие (ex: в понедельник)\n",
    "train['day_week'] = train['app_date'].dt.weekday\n",
    "test['day_week'] = test['app_date'].dt.weekday\n",
    "\n",
    "cat_cols.append('day_week')  # добавляем к списку с категориальными признаками"
   ]
  },
  {
   "cell_type": "code",
   "execution_count": 21,
   "id": "a451c5f5",
   "metadata": {
    "execution": {
     "iopub.execute_input": "2021-08-09T14:55:42.519572Z",
     "iopub.status.busy": "2021-08-09T14:55:42.513081Z",
     "iopub.status.idle": "2021-08-09T14:55:42.555860Z",
     "shell.execute_reply": "2021-08-09T14:55:42.555125Z",
     "shell.execute_reply.started": "2021-08-09T14:50:18.625458Z"
    },
    "papermill": {
     "duration": 0.089333,
     "end_time": "2021-08-09T14:55:42.556020",
     "exception": false,
     "start_time": "2021-08-09T14:55:42.466687",
     "status": "completed"
    },
    "tags": []
   },
   "outputs": [],
   "source": [
    "# выделение признака 1 - будний день, 0 - выходной день\n",
    "train['is_weekdays'] = train['day_week'].apply(\n",
    "    lambda x: 1 if x not in (5, 6) else 0)\n",
    "test['is_weekdays'] = test['day_week'].apply(\n",
    "    lambda x: 1 if x not in (5, 6) else 0)\n",
    "\n",
    "bin_cols.append('is_weekdays')  # добавляем к списку с бинарными признаками"
   ]
  },
  {
   "cell_type": "code",
   "execution_count": 22,
   "id": "d3bf6dc9",
   "metadata": {
    "execution": {
     "iopub.execute_input": "2021-08-09T14:55:42.643645Z",
     "iopub.status.busy": "2021-08-09T14:55:42.642912Z",
     "iopub.status.idle": "2021-08-09T14:55:42.659889Z",
     "shell.execute_reply": "2021-08-09T14:55:42.659372Z",
     "shell.execute_reply.started": "2021-08-09T14:50:18.706061Z"
    },
    "papermill": {
     "duration": 0.062677,
     "end_time": "2021-08-09T14:55:42.660035",
     "exception": false,
     "start_time": "2021-08-09T14:55:42.597358",
     "status": "completed"
    },
    "tags": []
   },
   "outputs": [],
   "source": [
    "# генерируем новые признаки по app_date: месяц может иметь значение - категориальный признак\n",
    "train['month_num'] = train['app_date'].dt.month\n",
    "test['month_num'] = test['app_date'].dt.month\n",
    "\n",
    "cat_cols.append('month_num') # добавляем к списку с категориальными признаками"
   ]
  },
  {
   "cell_type": "markdown",
   "id": "5376d70e",
   "metadata": {
    "papermill": {
     "duration": 0.040926,
     "end_time": "2021-08-09T14:55:42.741896",
     "exception": false,
     "start_time": "2021-08-09T14:55:42.700970",
     "status": "completed"
    },
    "tags": []
   },
   "source": [
    "#### **Анализ и преобразование численных признаков**"
   ]
  },
  {
   "cell_type": "code",
   "execution_count": 23,
   "id": "0867371a",
   "metadata": {
    "execution": {
     "iopub.execute_input": "2021-08-09T14:55:42.831277Z",
     "iopub.status.busy": "2021-08-09T14:55:42.830258Z",
     "iopub.status.idle": "2021-08-09T14:55:42.833042Z",
     "shell.execute_reply": "2021-08-09T14:55:42.832591Z",
     "shell.execute_reply.started": "2021-08-09T14:50:18.726231Z"
    },
    "papermill": {
     "duration": 0.050533,
     "end_time": "2021-08-09T14:55:42.833188",
     "exception": false,
     "start_time": "2021-08-09T14:55:42.782655",
     "status": "completed"
    },
    "tags": []
   },
   "outputs": [],
   "source": [
    "def new_num_feat(data_train, data_test, feat_cat, feat_num):\n",
    "    \"\"\"\n",
    "    Функция создания нового числового признака: \n",
    "    среднее значение feat_num в зависимости кат-го призн. feat_cat\n",
    "    \"\"\"\n",
    "    for data in [data_train, data_test]:\n",
    "        dict_data = dict(data.groupby(feat_cat)[feat_num].mean())\n",
    "        data[feat_num[:5] + '_mean_' + feat_cat[:5]\n",
    "            ] = data[feat_cat].apply(lambda x: dict_data[x])\n",
    "    \n",
    "    num_cols.append(feat_num[:5] + '_mean_' + feat_cat[:5])\n",
    "    return data"
   ]
  },
  {
   "cell_type": "code",
   "execution_count": 24,
   "id": "1d998a07",
   "metadata": {
    "execution": {
     "iopub.execute_input": "2021-08-09T14:55:42.917785Z",
     "iopub.status.busy": "2021-08-09T14:55:42.917135Z",
     "iopub.status.idle": "2021-08-09T14:55:42.923411Z",
     "shell.execute_reply": "2021-08-09T14:55:42.922906Z",
     "shell.execute_reply.started": "2021-08-09T14:50:18.735650Z"
    },
    "papermill": {
     "duration": 0.049682,
     "end_time": "2021-08-09T14:55:42.923554",
     "exception": false,
     "start_time": "2021-08-09T14:55:42.873872",
     "status": "completed"
    },
    "tags": []
   },
   "outputs": [],
   "source": [
    "def new_log_num_feat(data_train, data_test, feat_cat, feat_num):\n",
    "    \"\"\"\n",
    "    Функция создания нового числового признака: \n",
    "    среднее значение feat_num в зависимости кат-го призн. feat_cat\n",
    "    \"\"\"\n",
    "    for data in [data_train, data_test]:\n",
    "        dict_data = dict(data.groupby(feat_cat)[feat_num].mean())\n",
    "        data['log_' + feat_num[:5] + '_mean_' + feat_cat[:5]\n",
    "            ] = np.log(4+data[feat_cat].apply(lambda x: dict_data[x]))\n",
    "    \n",
    "    num_cols.append('log_' + feat_num[:5] + '_mean_' + feat_cat[:5])\n",
    "    return data"
   ]
  },
  {
   "cell_type": "code",
   "execution_count": 25,
   "id": "a465838a",
   "metadata": {
    "execution": {
     "iopub.execute_input": "2021-08-09T14:55:43.017484Z",
     "iopub.status.busy": "2021-08-09T14:55:43.015087Z",
     "iopub.status.idle": "2021-08-09T14:55:43.118701Z",
     "shell.execute_reply": "2021-08-09T14:55:43.119154Z",
     "shell.execute_reply.started": "2021-08-09T14:50:18.744641Z"
    },
    "papermill": {
     "duration": 0.154972,
     "end_time": "2021-08-09T14:55:43.119334",
     "exception": false,
     "start_time": "2021-08-09T14:55:42.964362",
     "status": "completed"
    },
    "tags": []
   },
   "outputs": [
    {
     "name": "stdout",
     "output_type": "stream",
     "text": [
      "\n"
     ]
    }
   ],
   "source": [
    "new_num_feat(train, test, 'education', 'income')\n",
    "new_num_feat(train, test, 'work_address', 'income')\n",
    "new_log_num_feat(train, test, 'region_rating', 'bki_request_cnt')\n",
    "print()"
   ]
  },
  {
   "cell_type": "markdown",
   "id": "e974e2ab",
   "metadata": {
    "papermill": {
     "duration": 0.05483,
     "end_time": "2021-08-09T14:55:43.214796",
     "exception": false,
     "start_time": "2021-08-09T14:55:43.159966",
     "status": "completed"
    },
    "tags": []
   },
   "source": [
    "Нижеприведенные новые признаки **ухудшают** оценочную метрику (установлено методом проб)\n",
    "- новый числовой признак: среднее значение score_bki в зависимости от education \n",
    "- новый числовой признак: среднее значение score_bki в зависимости от дня недели \n",
    "- новый числовой признак: среднее значение income в зависимости от home_address \n",
    "- новый числовой признак: среднее значение income в зависимости от sna \n",
    "- новый числовой признак: среднее значение income в зависимости от first_time \n",
    "- новый числовой признак: среднее значение region_rating в зависимости от education  \n",
    "Также не принимались в рассмотрение новые числовые признаки, у которых прослеживалась сильная корреляция с имеющимися числовыми признаками"
   ]
  },
  {
   "cell_type": "markdown",
   "id": "c4530eed",
   "metadata": {
    "papermill": {
     "duration": 0.046097,
     "end_time": "2021-08-09T14:55:43.312546",
     "exception": false,
     "start_time": "2021-08-09T14:55:43.266449",
     "status": "completed"
    },
    "tags": []
   },
   "source": [
    "## **2. Работа с числовыми переменными**"
   ]
  },
  {
   "cell_type": "markdown",
   "id": "22cb4b3a",
   "metadata": {
    "papermill": {
     "duration": 0.040287,
     "end_time": "2021-08-09T14:55:43.393265",
     "exception": false,
     "start_time": "2021-08-09T14:55:43.352978",
     "status": "completed"
    },
    "tags": []
   },
   "source": [
    "### **2а. Визуализация**"
   ]
  },
  {
   "cell_type": "code",
   "execution_count": 26,
   "id": "88d90592",
   "metadata": {
    "execution": {
     "iopub.execute_input": "2021-08-09T14:55:43.494435Z",
     "iopub.status.busy": "2021-08-09T14:55:43.493689Z",
     "iopub.status.idle": "2021-08-09T14:55:58.586407Z",
     "shell.execute_reply": "2021-08-09T14:55:58.585761Z",
     "shell.execute_reply.started": "2021-08-09T14:50:18.899356Z"
    },
    "papermill": {
     "duration": 15.152687,
     "end_time": "2021-08-09T14:55:58.586547",
     "exception": false,
     "start_time": "2021-08-09T14:55:43.433860",
     "status": "completed"
    },
    "tags": []
   },
   "outputs": [
    {
     "data": {
      "image/png": "[encoded data removed]",
      "text/plain": [
       "<Figure size 1800x288 with 4 Axes>"
      ]
     },
     "metadata": {
      "needs_background": "light"
     },
     "output_type": "display_data"
    },
    {
     "data": {
      "image/png": "[encoded data removed]",
      "text/plain": [
       "<Figure size 1800x288 with 4 Axes>"
      ]
     },
     "metadata": {
      "needs_background": "light"
     },
     "output_type": "display_data"
    },
    {
     "data": {
      "image/png": "[encoded data removed]",
      "text/plain": [
       "<Figure size 1800x288 with 4 Axes>"
      ]
     },
     "metadata": {
      "needs_background": "light"
     },
     "output_type": "display_data"
    },
    {
     "data": {
      "image/png": "[encoded data removed]",
      "text/plain": [
       "<Figure size 1800x288 with 4 Axes>"
      ]
     },
     "metadata": {
      "needs_background": "light"
     },
     "output_type": "display_data"
    },
    {
     "data": {
      "image/png": "[encoded data removed]",
      "text/plain": [
       "<Figure size 1800x288 with 4 Axes>"
      ]
     },
     "metadata": {
      "needs_background": "light"
     },
     "output_type": "display_data"
    },
    {
     "data": {
      "image/png": "[encoded data removed]",
      "text/plain": [
       "<Figure size 1800x288 with 4 Axes>"
      ]
     },
     "metadata": {
      "needs_background": "light"
     },
     "output_type": "display_data"
    },
    {
     "data": {
      "image/png": "[encoded data removed]",
      "text/plain": [
       "<Figure size 1800x288 with 4 Axes>"
      ]
     },
     "metadata": {
      "needs_background": "light"
     },
     "output_type": "display_data"
    },
    {
     "data": {
      "image/png": "[encoded data removed]",
      "text/plain": [
       "<Figure size 1800x288 with 4 Axes>"
      ]
     },
     "metadata": {
      "needs_background": "light"
     },
     "output_type": "display_data"
    },
    {
     "data": {
      "image/png": "[encoded data removed]",
      "text/plain": [
       "<Figure size 1800x288 with 4 Axes>"
      ]
     },
     "metadata": {
      "needs_background": "light"
     },
     "output_type": "display_data"
    },
    {
     "data": {
      "image/png": "[encoded data removed]",
      "text/plain": [
       "<Figure size 1800x288 with 4 Axes>"
      ]
     },
     "metadata": {
      "needs_background": "light"
     },
     "output_type": "display_data"
    }
   ],
   "source": [
    "# Посмотрим на распределение числовых данных:\n",
    "for i in num_cols:\n",
    "    f, ax = plt.subplots(figsize=(25, 4))\n",
    "    \n",
    "    # тренировочная выборка исх данные\n",
    "    plt.subplot(1, 4, 1)\n",
    "    sns.histplot(train[i])\n",
    "    plt.title('train: ' + i)\n",
    "    \n",
    "    # тренировочная выборка после логарифмирования\n",
    "    plt.subplot(1, 4, 2)\n",
    "    sns.histplot(np.log(4+train[i]))\n",
    "    plt.title('train wth log: ' + i)\n",
    "    \n",
    "    # валидационная выборка исх данные\n",
    "    plt.subplot(1, 4, 3)\n",
    "    sns.histplot(test[i])\n",
    "    plt.title('test: ' + i)\n",
    "       \n",
    "    # валидационная выборка ипосле логарифмирования\n",
    "    plt.subplot(1, 4, 4)\n",
    "    sns.histplot(np.log(4+test[i]))\n",
    "    plt.title('test wth log: ' + i)\n",
    "    plt.show()"
   ]
  },
  {
   "cell_type": "markdown",
   "id": "498658c6",
   "metadata": {
    "papermill": {
     "duration": 0.050141,
     "end_time": "2021-08-09T14:55:58.688612",
     "exception": false,
     "start_time": "2021-08-09T14:55:58.638471",
     "status": "completed"
    },
    "tags": []
   },
   "source": [
    "#### **Предварительные выводы по гистограммам числовых переменных на исходных признаках в датасетах train и test:**\n",
    "1. В тренировочной выборке по признаку **age** есть пропуски, их отсуствие может повлиять на предсказание значений в валидационной (test) выборке.\n",
    "2. В валидационнной (test) выборке по признаку **age** есть выбросы.\n",
    "3. Признак **score_bki** имеет похожее на нормальное распределение и отрицательно\n",
    "4. Логарифмирование можно применить для признаков **'decline_app_cnt', 'bki_request_cnt',  'income'** - уменьшаем длину хвоста и приводим к нормальному виду (income)"
   ]
  },
  {
   "cell_type": "markdown",
   "id": "dff54165",
   "metadata": {
    "papermill": {
     "duration": 0.049925,
     "end_time": "2021-08-09T14:55:58.788758",
     "exception": false,
     "start_time": "2021-08-09T14:55:58.738833",
     "status": "completed"
    },
    "tags": []
   },
   "source": [
    "#### **Посмотрим на распределения boxplot’ов для численных переменных и дефолтных клиентов (default) тренировочной выборки:**"
   ]
  },
  {
   "cell_type": "code",
   "execution_count": 27,
   "id": "1f3f9c3c",
   "metadata": {
    "execution": {
     "iopub.execute_input": "2021-08-09T14:55:58.910211Z",
     "iopub.status.busy": "2021-08-09T14:55:58.908288Z",
     "iopub.status.idle": "2021-08-09T14:56:00.389759Z",
     "shell.execute_reply": "2021-08-09T14:56:00.390425Z",
     "shell.execute_reply.started": "2021-08-09T14:50:35.222940Z"
    },
    "papermill": {
     "duration": 1.551312,
     "end_time": "2021-08-09T14:56:00.390598",
     "exception": false,
     "start_time": "2021-08-09T14:55:58.839286",
     "status": "completed"
    },
    "tags": []
   },
   "outputs": [
    {
     "data": {
      "image/png": "[encoded data removed]",
      "text/plain": [
       "<Figure size 1440x1152 with 12 Axes>"
      ]
     },
     "metadata": {
      "needs_background": "light"
     },
     "output_type": "display_data"
    }
   ],
   "source": [
    "f, ax = plt.subplots(nrows=math.ceil(len(num_cols)/4), \n",
    "                     ncols=4, figsize=(20, 16))\n",
    "for n,i in enumerate(num_cols, start=1):\n",
    "    plt.subplot(math.ceil(len(num_cols)/4), 4, n)\n",
    "    sns.boxplot(x=\"default\", y=i, data=train)\n",
    "    plt.title(i)\n",
    "\n",
    "plt.show()"
   ]
  },
  {
   "cell_type": "code",
   "execution_count": 28,
   "id": "557bec07",
   "metadata": {
    "execution": {
     "iopub.execute_input": "2021-08-09T14:56:00.501721Z",
     "iopub.status.busy": "2021-08-09T14:56:00.500733Z",
     "iopub.status.idle": "2021-08-09T14:56:00.536436Z",
     "shell.execute_reply": "2021-08-09T14:56:00.535942Z",
     "shell.execute_reply.started": "2021-08-09T14:50:36.859681Z"
    },
    "papermill": {
     "duration": 0.092052,
     "end_time": "2021-08-09T14:56:00.536582",
     "exception": false,
     "start_time": "2021-08-09T14:56:00.444530",
     "status": "completed"
    },
    "tags": []
   },
   "outputs": [
    {
     "data": {
      "text/plain": [
       "(57.16904403433343, 53.67797695262484)"
      ]
     },
     "execution_count": 28,
     "metadata": {},
     "output_type": "execute_result"
    }
   ],
   "source": [
    "train[train.default==0].region_rating.mean(), train[train.default==1].region_rating.mean()"
   ]
  },
  {
   "cell_type": "markdown",
   "id": "9694c0f0",
   "metadata": {
    "papermill": {
     "duration": 0.053239,
     "end_time": "2021-08-09T14:56:00.642743",
     "exception": false,
     "start_time": "2021-08-09T14:56:00.589504",
     "status": "completed"
    },
    "tags": []
   },
   "source": [
    "#### **Предварительные выводы по boxplot’ам для исходных признаках в датасете train**\n",
    "Прим.: Дефолтные клиенты - default=1\n",
    "1. Дефолтные клиенты в среднем младше\n",
    "2. Дефолтные клиенты в среднем имеют большее количество отмененных заявок. \n",
    "3. Дефолтные клиенты в среднем имеют более меньший по модулю score_bki\n",
    "4. Дефолтные клиенты в среднем имеют больше запросов в БКИ\n",
    "5. Дефолтные клиенты в среднем имеют более низкий рейтинг региона.\n",
    "6. Дефолтные клиенты в среднем имеют более низкий доход.\n",
    "7. Дефолтные клиенты в среднем подавали заявку раньше, чем недефолтные.  \n",
    "Прим.: Новые признаки были созданы после проведенного анализа и не описываются"
   ]
  },
  {
   "cell_type": "markdown",
   "id": "b37f73b3",
   "metadata": {
    "papermill": {
     "duration": 0.05349,
     "end_time": "2021-08-09T14:56:00.749720",
     "exception": false,
     "start_time": "2021-08-09T14:56:00.696230",
     "status": "completed"
    },
    "tags": []
   },
   "source": [
    "### **2b. Оценка корреляций**"
   ]
  },
  {
   "cell_type": "code",
   "execution_count": 29,
   "id": "da475205",
   "metadata": {
    "execution": {
     "iopub.execute_input": "2021-08-09T14:56:00.864987Z",
     "iopub.status.busy": "2021-08-09T14:56:00.864337Z",
     "iopub.status.idle": "2021-08-09T14:56:01.272890Z",
     "shell.execute_reply": "2021-08-09T14:56:01.272385Z",
     "shell.execute_reply.started": "2021-08-09T14:50:36.895863Z"
    },
    "papermill": {
     "duration": 0.469344,
     "end_time": "2021-08-09T14:56:01.273023",
     "exception": false,
     "start_time": "2021-08-09T14:56:00.803679",
     "status": "completed"
    },
    "tags": []
   },
   "outputs": [
    {
     "data": {
      "text/plain": [
       "<AxesSubplot:>"
      ]
     },
     "execution_count": 29,
     "metadata": {},
     "output_type": "execute_result"
    },
    {
     "data": {
      "image/png": "[encoded data removed]",
      "text/plain": [
       "<Figure size 432x288 with 2 Axes>"
      ]
     },
     "metadata": {
      "needs_background": "light"
     },
     "output_type": "display_data"
    }
   ],
   "source": [
    "# Оценим корреляцию (корр Пирсона)\n",
    "sns.heatmap(train[num_cols+['default']].corr().abs(), vmin=0, vmax=1)"
   ]
  },
  {
   "cell_type": "code",
   "execution_count": 30,
   "id": "63ff695d",
   "metadata": {
    "execution": {
     "iopub.execute_input": "2021-08-09T14:56:01.389324Z",
     "iopub.status.busy": "2021-08-09T14:56:01.388694Z",
     "iopub.status.idle": "2021-08-09T14:56:01.434734Z",
     "shell.execute_reply": "2021-08-09T14:56:01.433926Z",
     "shell.execute_reply.started": "2021-08-09T14:50:37.269744Z"
    },
    "papermill": {
     "duration": 0.107442,
     "end_time": "2021-08-09T14:56:01.434891",
     "exception": false,
     "start_time": "2021-08-09T14:56:01.327449",
     "status": "completed"
    },
    "tags": []
   },
   "outputs": [
    {
     "data": {
      "text/html": [
       "<div>\n",
       "<style scoped>\n",
       "    .dataframe tbody tr th:only-of-type {\n",
       "        vertical-align: middle;\n",
       "    }\n",
       "\n",
       "    .dataframe tbody tr th {\n",
       "        vertical-align: top;\n",
       "    }\n",
       "\n",
       "    .dataframe thead th {\n",
       "        text-align: right;\n",
       "    }\n",
       "</style>\n",
       "<table border=\"1\" class=\"dataframe\">\n",
       "  <thead>\n",
       "    <tr style=\"text-align: right;\">\n",
       "      <th></th>\n",
       "      <th>age</th>\n",
       "      <th>decline_app_cnt</th>\n",
       "      <th>score_bki</th>\n",
       "      <th>bki_request_cnt</th>\n",
       "      <th>region_rating</th>\n",
       "      <th>income</th>\n",
       "      <th>delta_days</th>\n",
       "      <th>incom_mean_educa</th>\n",
       "      <th>incom_mean_work_</th>\n",
       "      <th>log_bki_r_mean_regio</th>\n",
       "      <th>default</th>\n",
       "    </tr>\n",
       "  </thead>\n",
       "  <tbody>\n",
       "    <tr>\n",
       "      <th>age</th>\n",
       "      <td>1.000000</td>\n",
       "      <td>-0.111175</td>\n",
       "      <td>-0.106275</td>\n",
       "      <td>0.046265</td>\n",
       "      <td>-0.089501</td>\n",
       "      <td>-0.018900</td>\n",
       "      <td>0.015676</td>\n",
       "      <td>-0.105129</td>\n",
       "      <td>0.003847</td>\n",
       "      <td>-0.056548</td>\n",
       "      <td>-0.025004</td>\n",
       "    </tr>\n",
       "    <tr>\n",
       "      <th>decline_app_cnt</th>\n",
       "      <td>-0.111175</td>\n",
       "      <td>1.000000</td>\n",
       "      <td>0.189987</td>\n",
       "      <td>0.155894</td>\n",
       "      <td>-0.038505</td>\n",
       "      <td>-0.021687</td>\n",
       "      <td>-0.021352</td>\n",
       "      <td>-0.034331</td>\n",
       "      <td>0.009470</td>\n",
       "      <td>-0.010112</td>\n",
       "      <td>0.113682</td>\n",
       "    </tr>\n",
       "    <tr>\n",
       "      <th>score_bki</th>\n",
       "      <td>-0.106275</td>\n",
       "      <td>0.189987</td>\n",
       "      <td>1.000000</td>\n",
       "      <td>0.156257</td>\n",
       "      <td>0.008959</td>\n",
       "      <td>-0.012639</td>\n",
       "      <td>-0.063605</td>\n",
       "      <td>-0.022670</td>\n",
       "      <td>0.012777</td>\n",
       "      <td>0.021943</td>\n",
       "      <td>0.175369</td>\n",
       "    </tr>\n",
       "    <tr>\n",
       "      <th>bki_request_cnt</th>\n",
       "      <td>0.046265</td>\n",
       "      <td>0.155894</td>\n",
       "      <td>0.156257</td>\n",
       "      <td>1.000000</td>\n",
       "      <td>0.009025</td>\n",
       "      <td>0.082983</td>\n",
       "      <td>-0.029165</td>\n",
       "      <td>0.039173</td>\n",
       "      <td>0.009791</td>\n",
       "      <td>0.021598</td>\n",
       "      <td>0.078242</td>\n",
       "    </tr>\n",
       "    <tr>\n",
       "      <th>region_rating</th>\n",
       "      <td>-0.089501</td>\n",
       "      <td>-0.038505</td>\n",
       "      <td>0.008959</td>\n",
       "      <td>0.009025</td>\n",
       "      <td>1.000000</td>\n",
       "      <td>0.205674</td>\n",
       "      <td>0.007125</td>\n",
       "      <td>0.119368</td>\n",
       "      <td>0.264012</td>\n",
       "      <td>0.418895</td>\n",
       "      <td>-0.089035</td>\n",
       "    </tr>\n",
       "    <tr>\n",
       "      <th>income</th>\n",
       "      <td>-0.018900</td>\n",
       "      <td>-0.021687</td>\n",
       "      <td>-0.012639</td>\n",
       "      <td>0.082983</td>\n",
       "      <td>0.205674</td>\n",
       "      <td>1.000000</td>\n",
       "      <td>-0.000454</td>\n",
       "      <td>0.246263</td>\n",
       "      <td>0.061473</td>\n",
       "      <td>0.087903</td>\n",
       "      <td>-0.039752</td>\n",
       "    </tr>\n",
       "    <tr>\n",
       "      <th>delta_days</th>\n",
       "      <td>0.015676</td>\n",
       "      <td>-0.021352</td>\n",
       "      <td>-0.063605</td>\n",
       "      <td>-0.029165</td>\n",
       "      <td>0.007125</td>\n",
       "      <td>-0.000454</td>\n",
       "      <td>1.000000</td>\n",
       "      <td>0.035286</td>\n",
       "      <td>0.174452</td>\n",
       "      <td>-0.001127</td>\n",
       "      <td>-0.039372</td>\n",
       "    </tr>\n",
       "    <tr>\n",
       "      <th>incom_mean_educa</th>\n",
       "      <td>-0.105129</td>\n",
       "      <td>-0.034331</td>\n",
       "      <td>-0.022670</td>\n",
       "      <td>0.039173</td>\n",
       "      <td>0.119368</td>\n",
       "      <td>0.246263</td>\n",
       "      <td>0.035286</td>\n",
       "      <td>1.000000</td>\n",
       "      <td>0.012421</td>\n",
       "      <td>0.026561</td>\n",
       "      <td>-0.084435</td>\n",
       "    </tr>\n",
       "    <tr>\n",
       "      <th>incom_mean_work_</th>\n",
       "      <td>0.003847</td>\n",
       "      <td>0.009470</td>\n",
       "      <td>0.012777</td>\n",
       "      <td>0.009791</td>\n",
       "      <td>0.264012</td>\n",
       "      <td>0.061473</td>\n",
       "      <td>0.174452</td>\n",
       "      <td>0.012421</td>\n",
       "      <td>1.000000</td>\n",
       "      <td>0.027603</td>\n",
       "      <td>0.072038</td>\n",
       "    </tr>\n",
       "    <tr>\n",
       "      <th>log_bki_r_mean_regio</th>\n",
       "      <td>-0.056548</td>\n",
       "      <td>-0.010112</td>\n",
       "      <td>0.021943</td>\n",
       "      <td>0.021598</td>\n",
       "      <td>0.418895</td>\n",
       "      <td>0.087903</td>\n",
       "      <td>-0.001127</td>\n",
       "      <td>0.026561</td>\n",
       "      <td>0.027603</td>\n",
       "      <td>1.000000</td>\n",
       "      <td>-0.037749</td>\n",
       "    </tr>\n",
       "    <tr>\n",
       "      <th>default</th>\n",
       "      <td>-0.025004</td>\n",
       "      <td>0.113682</td>\n",
       "      <td>0.175369</td>\n",
       "      <td>0.078242</td>\n",
       "      <td>-0.089035</td>\n",
       "      <td>-0.039752</td>\n",
       "      <td>-0.039372</td>\n",
       "      <td>-0.084435</td>\n",
       "      <td>0.072038</td>\n",
       "      <td>-0.037749</td>\n",
       "      <td>1.000000</td>\n",
       "    </tr>\n",
       "  </tbody>\n",
       "</table>\n",
       "</div>"
      ],
      "text/plain": [
       "                           age  decline_app_cnt  score_bki  bki_request_cnt  \\\n",
       "age                   1.000000        -0.111175  -0.106275         0.046265   \n",
       "decline_app_cnt      -0.111175         1.000000   0.189987         0.155894   \n",
       "score_bki            -0.106275         0.189987   1.000000         0.156257   \n",
       "bki_request_cnt       0.046265         0.155894   0.156257         1.000000   \n",
       "region_rating        -0.089501        -0.038505   0.008959         0.009025   \n",
       "income               -0.018900        -0.021687  -0.012639         0.082983   \n",
       "delta_days            0.015676        -0.021352  -0.063605        -0.029165   \n",
       "incom_mean_educa     -0.105129        -0.034331  -0.022670         0.039173   \n",
       "incom_mean_work_      0.003847         0.009470   0.012777         0.009791   \n",
       "log_bki_r_mean_regio -0.056548        -0.010112   0.021943         0.021598   \n",
       "default              -0.025004         0.113682   0.175369         0.078242   \n",
       "\n",
       "                      region_rating    income  delta_days  incom_mean_educa  \\\n",
       "age                       -0.089501 -0.018900    0.015676         -0.105129   \n",
       "decline_app_cnt           -0.038505 -0.021687   -0.021352         -0.034331   \n",
       "score_bki                  0.008959 -0.012639   -0.063605         -0.022670   \n",
       "bki_request_cnt            0.009025  0.082983   -0.029165          0.039173   \n",
       "region_rating              1.000000  0.205674    0.007125          0.119368   \n",
       "income                     0.205674  1.000000   -0.000454          0.246263   \n",
       "delta_days                 0.007125 -0.000454    1.000000          0.035286   \n",
       "incom_mean_educa           0.119368  0.246263    0.035286          1.000000   \n",
       "incom_mean_work_           0.264012  0.061473    0.174452          0.012421   \n",
       "log_bki_r_mean_regio       0.418895  0.087903   -0.001127          0.026561   \n",
       "default                   -0.089035 -0.039752   -0.039372         -0.084435   \n",
       "\n",
       "                      incom_mean_work_  log_bki_r_mean_regio   default  \n",
       "age                           0.003847             -0.056548 -0.025004  \n",
       "decline_app_cnt               0.009470             -0.010112  0.113682  \n",
       "score_bki                     0.012777              0.021943  0.175369  \n",
       "bki_request_cnt               0.009791              0.021598  0.078242  \n",
       "region_rating                 0.264012              0.418895 -0.089035  \n",
       "income                        0.061473              0.087903 -0.039752  \n",
       "delta_days                    0.174452             -0.001127 -0.039372  \n",
       "incom_mean_educa              0.012421              0.026561 -0.084435  \n",
       "incom_mean_work_              1.000000              0.027603  0.072038  \n",
       "log_bki_r_mean_regio          0.027603              1.000000 -0.037749  \n",
       "default                       0.072038             -0.037749  1.000000  "
      ]
     },
     "execution_count": 30,
     "metadata": {},
     "output_type": "execute_result"
    }
   ],
   "source": [
    "train[num_cols+['default']].corr()"
   ]
  },
  {
   "cell_type": "markdown",
   "id": "c75be24a",
   "metadata": {
    "papermill": {
     "duration": 0.055219,
     "end_time": "2021-08-09T14:56:01.545545",
     "exception": false,
     "start_time": "2021-08-09T14:56:01.490326",
     "status": "completed"
    },
    "tags": []
   },
   "source": [
    "#### **Выводы по корреляции числовых признаков: числовые признаки слабо скоррелированы между собой**"
   ]
  },
  {
   "cell_type": "markdown",
   "id": "97ef405a",
   "metadata": {
    "papermill": {
     "duration": 0.054916,
     "end_time": "2021-08-09T14:56:01.655635",
     "exception": false,
     "start_time": "2021-08-09T14:56:01.600719",
     "status": "completed"
    },
    "tags": []
   },
   "source": [
    "### **2c. Значимость непрерывных числовых переменных**"
   ]
  },
  {
   "cell_type": "code",
   "execution_count": 31,
   "id": "1e189815",
   "metadata": {
    "execution": {
     "iopub.execute_input": "2021-08-09T14:56:01.775971Z",
     "iopub.status.busy": "2021-08-09T14:56:01.775279Z",
     "iopub.status.idle": "2021-08-09T14:56:02.124829Z",
     "shell.execute_reply": "2021-08-09T14:56:02.125259Z",
     "shell.execute_reply.started": "2021-08-09T14:50:37.322797Z"
    },
    "papermill": {
     "duration": 0.414412,
     "end_time": "2021-08-09T14:56:02.125469",
     "exception": false,
     "start_time": "2021-08-09T14:56:01.711057",
     "status": "completed"
    },
    "tags": []
   },
   "outputs": [
    {
     "data": {
      "text/plain": [
       "<AxesSubplot:>"
      ]
     },
     "execution_count": 31,
     "metadata": {},
     "output_type": "execute_result"
    },
    {
     "data": {
      "image/png": "[encoded data removed]",
      "text/plain": [
       "<Figure size 576x216 with 1 Axes>"
      ]
     },
     "metadata": {
      "needs_background": "light"
     },
     "output_type": "display_data"
    }
   ],
   "source": [
    "imp_num = pd.Series(f_classif(train[num_cols], train['default'])[0], \n",
    "                    index = num_cols)\n",
    "imp_num.sort_values(inplace = True)\n",
    "imp_num.plot(kind = 'barh', \n",
    "             figsize=(8, np.round(len(imp_num)/3, 0)))"
   ]
  },
  {
   "cell_type": "markdown",
   "id": "8f94390d",
   "metadata": {
    "papermill": {
     "duration": 0.055633,
     "end_time": "2021-08-09T14:56:02.238083",
     "exception": false,
     "start_time": "2021-08-09T14:56:02.182450",
     "status": "completed"
    },
    "tags": []
   },
   "source": [
    "#### **Логарифмирование признаков 'decline_app_cnt', 'bki_request_cnt',  'income'**"
   ]
  },
  {
   "cell_type": "code",
   "execution_count": 32,
   "id": "d7bda1a2",
   "metadata": {
    "execution": {
     "iopub.execute_input": "2021-08-09T14:56:02.353773Z",
     "iopub.status.busy": "2021-08-09T14:56:02.353130Z",
     "iopub.status.idle": "2021-08-09T14:56:02.388546Z",
     "shell.execute_reply": "2021-08-09T14:56:02.388016Z",
     "shell.execute_reply.started": "2021-08-09T14:50:37.684427Z"
    },
    "papermill": {
     "duration": 0.093959,
     "end_time": "2021-08-09T14:56:02.388693",
     "exception": false,
     "start_time": "2021-08-09T14:56:02.294734",
     "status": "completed"
    },
    "tags": []
   },
   "outputs": [],
   "source": [
    "train[['decline_app_cnt', 'bki_request_cnt', 'income']] = np.log(1+train[['decline_app_cnt', \n",
    "                                                                          'bki_request_cnt',  \n",
    "                                                                          'income']])\n",
    "\n",
    "test[['decline_app_cnt', 'bki_request_cnt', 'income']] = np.log(1+test[['decline_app_cnt', \n",
    "                                                                        'bki_request_cnt',  \n",
    "                                                                        'income']])"
   ]
  },
  {
   "cell_type": "markdown",
   "id": "8680aac3",
   "metadata": {
    "papermill": {
     "duration": 0.055574,
     "end_time": "2021-08-09T14:56:02.499999",
     "exception": false,
     "start_time": "2021-08-09T14:56:02.444425",
     "status": "completed"
    },
    "tags": []
   },
   "source": [
    "#### **Выводы по значимости непрерывных переменных: самая значимая числовая переменная для default - score_bki**"
   ]
  },
  {
   "cell_type": "markdown",
   "id": "b4066ba6",
   "metadata": {
    "papermill": {
     "duration": 0.055953,
     "end_time": "2021-08-09T14:56:02.611868",
     "exception": false,
     "start_time": "2021-08-09T14:56:02.555915",
     "status": "completed"
    },
    "tags": []
   },
   "source": [
    "## **3. Категориальные переменные**"
   ]
  },
  {
   "cell_type": "markdown",
   "id": "9364e9d8",
   "metadata": {
    "papermill": {
     "duration": 0.055537,
     "end_time": "2021-08-09T14:56:02.723982",
     "exception": false,
     "start_time": "2021-08-09T14:56:02.668445",
     "status": "completed"
    },
    "tags": []
   },
   "source": [
    "#### **Создание новых категориальных признаков**\n"
   ]
  },
  {
   "cell_type": "code",
   "execution_count": 33,
   "id": "cd4531af",
   "metadata": {
    "execution": {
     "iopub.execute_input": "2021-08-09T14:56:02.844585Z",
     "iopub.status.busy": "2021-08-09T14:56:02.843578Z",
     "iopub.status.idle": "2021-08-09T14:56:02.846542Z",
     "shell.execute_reply": "2021-08-09T14:56:02.846020Z",
     "shell.execute_reply.started": "2021-08-09T14:50:37.718418Z"
    },
    "papermill": {
     "duration": 0.065537,
     "end_time": "2021-08-09T14:56:02.846696",
     "exception": false,
     "start_time": "2021-08-09T14:56:02.781159",
     "status": "completed"
    },
    "tags": []
   },
   "outputs": [],
   "source": [
    "# конъюнкция двух категориальных признаков\n",
    "def make_conj_2(data, feature_1, feature_2):\n",
    "    label_encoder = LabelEncoder()\n",
    "    data[feature_1 + ' + ' + \n",
    "         feature_2] = data[feature_1].astype(str) + ' + ' + data[feature_2].astype(str)\n",
    "    data[feature_1 + ' + ' + \n",
    "         feature_2] = label_encoder.fit_transform(data[feature_1 + ' + ' + feature_2])\n",
    "    return(data)"
   ]
  },
  {
   "cell_type": "code",
   "execution_count": 34,
   "id": "cef52ce6",
   "metadata": {
    "execution": {
     "iopub.execute_input": "2021-08-09T14:56:02.964845Z",
     "iopub.status.busy": "2021-08-09T14:56:02.963925Z",
     "iopub.status.idle": "2021-08-09T14:56:06.514680Z",
     "shell.execute_reply": "2021-08-09T14:56:06.514060Z",
     "shell.execute_reply.started": "2021-08-09T14:50:37.724736Z"
    },
    "papermill": {
     "duration": 3.612076,
     "end_time": "2021-08-09T14:56:06.514824",
     "exception": false,
     "start_time": "2021-08-09T14:56:02.902748",
     "status": "completed"
    },
    "tags": []
   },
   "outputs": [],
   "source": [
    "import itertools\n",
    "variants = list(itertools.combinations(cat_cols, 2))\n",
    "\n",
    "for item in variants:\n",
    "    make_conj_2(train, item[0], item[1])\n",
    "    make_conj_2(test, item[0], item[1])\n",
    "    cat_cols.append(item[0] + ' + ' + item[1])"
   ]
  },
  {
   "cell_type": "code",
   "execution_count": 35,
   "id": "87872d4d",
   "metadata": {
    "execution": {
     "iopub.execute_input": "2021-08-09T14:56:06.634040Z",
     "iopub.status.busy": "2021-08-09T14:56:06.633408Z",
     "iopub.status.idle": "2021-08-09T14:56:06.636377Z",
     "shell.execute_reply": "2021-08-09T14:56:06.636890Z",
     "shell.execute_reply.started": "2021-08-09T14:50:43.807917Z"
    },
    "papermill": {
     "duration": 0.065916,
     "end_time": "2021-08-09T14:56:06.637092",
     "exception": false,
     "start_time": "2021-08-09T14:56:06.571176",
     "status": "completed"
    },
    "tags": []
   },
   "outputs": [
    {
     "data": {
      "text/plain": [
       "(73799, 47)"
      ]
     },
     "execution_count": 35,
     "metadata": {},
     "output_type": "execute_result"
    }
   ],
   "source": [
    "train.shape"
   ]
  },
  {
   "cell_type": "markdown",
   "id": "f5df788b",
   "metadata": {
    "papermill": {
     "duration": 0.058411,
     "end_time": "2021-08-09T14:56:06.754727",
     "exception": false,
     "start_time": "2021-08-09T14:56:06.696316",
     "status": "completed"
    },
    "tags": []
   },
   "source": [
    "### **3а. Преобразование категориальных переменных к численным значениям**"
   ]
  },
  {
   "cell_type": "code",
   "execution_count": 36,
   "id": "ec5a972a",
   "metadata": {
    "execution": {
     "iopub.execute_input": "2021-08-09T14:56:06.872172Z",
     "iopub.status.busy": "2021-08-09T14:56:06.871579Z",
     "iopub.status.idle": "2021-08-09T14:56:06.955967Z",
     "shell.execute_reply": "2021-08-09T14:56:06.955478Z",
     "shell.execute_reply.started": "2021-08-09T14:50:43.814516Z"
    },
    "papermill": {
     "duration": 0.143568,
     "end_time": "2021-08-09T14:56:06.956100",
     "exception": false,
     "start_time": "2021-08-09T14:56:06.812532",
     "status": "completed"
    },
    "tags": []
   },
   "outputs": [
    {
     "data": {
      "text/html": [
       "<div>\n",
       "<style scoped>\n",
       "    .dataframe tbody tr th:only-of-type {\n",
       "        vertical-align: middle;\n",
       "    }\n",
       "\n",
       "    .dataframe tbody tr th {\n",
       "        vertical-align: top;\n",
       "    }\n",
       "\n",
       "    .dataframe thead th {\n",
       "        text-align: right;\n",
       "    }\n",
       "</style>\n",
       "<table border=\"1\" class=\"dataframe\">\n",
       "  <thead>\n",
       "    <tr style=\"text-align: right;\">\n",
       "      <th></th>\n",
       "      <th>client_id</th>\n",
       "      <th>app_date</th>\n",
       "      <th>education</th>\n",
       "      <th>sex</th>\n",
       "      <th>age</th>\n",
       "      <th>car</th>\n",
       "      <th>car_type</th>\n",
       "      <th>decline_app_cnt</th>\n",
       "      <th>good_work</th>\n",
       "      <th>score_bki</th>\n",
       "      <th>...</th>\n",
       "      <th>work_address + sna</th>\n",
       "      <th>work_address + first_time</th>\n",
       "      <th>work_address + day_week</th>\n",
       "      <th>work_address + month_num</th>\n",
       "      <th>sna + first_time</th>\n",
       "      <th>sna + day_week</th>\n",
       "      <th>sna + month_num</th>\n",
       "      <th>first_time + day_week</th>\n",
       "      <th>first_time + month_num</th>\n",
       "      <th>day_week + month_num</th>\n",
       "    </tr>\n",
       "  </thead>\n",
       "  <tbody>\n",
       "    <tr>\n",
       "      <th>0</th>\n",
       "      <td>25905</td>\n",
       "      <td>2014-02-01</td>\n",
       "      <td>SCH</td>\n",
       "      <td>1</td>\n",
       "      <td>62</td>\n",
       "      <td>1</td>\n",
       "      <td>1</td>\n",
       "      <td>0.000000</td>\n",
       "      <td>0</td>\n",
       "      <td>-2.008753</td>\n",
       "      <td>...</td>\n",
       "      <td>7</td>\n",
       "      <td>4</td>\n",
       "      <td>12</td>\n",
       "      <td>5</td>\n",
       "      <td>12</td>\n",
       "      <td>26</td>\n",
       "      <td>13</td>\n",
       "      <td>5</td>\n",
       "      <td>1</td>\n",
       "      <td>21</td>\n",
       "    </tr>\n",
       "    <tr>\n",
       "      <th>1</th>\n",
       "      <td>63161</td>\n",
       "      <td>2014-03-12</td>\n",
       "      <td>SCH</td>\n",
       "      <td>0</td>\n",
       "      <td>59</td>\n",
       "      <td>0</td>\n",
       "      <td>0</td>\n",
       "      <td>0.000000</td>\n",
       "      <td>0</td>\n",
       "      <td>-1.532276</td>\n",
       "      <td>...</td>\n",
       "      <td>11</td>\n",
       "      <td>8</td>\n",
       "      <td>16</td>\n",
       "      <td>10</td>\n",
       "      <td>12</td>\n",
       "      <td>23</td>\n",
       "      <td>14</td>\n",
       "      <td>2</td>\n",
       "      <td>2</td>\n",
       "      <td>10</td>\n",
       "    </tr>\n",
       "    <tr>\n",
       "      <th>2</th>\n",
       "      <td>25887</td>\n",
       "      <td>2014-02-01</td>\n",
       "      <td>SCH</td>\n",
       "      <td>1</td>\n",
       "      <td>25</td>\n",
       "      <td>1</td>\n",
       "      <td>0</td>\n",
       "      <td>1.098612</td>\n",
       "      <td>0</td>\n",
       "      <td>-1.408142</td>\n",
       "      <td>...</td>\n",
       "      <td>4</td>\n",
       "      <td>7</td>\n",
       "      <td>12</td>\n",
       "      <td>5</td>\n",
       "      <td>3</td>\n",
       "      <td>5</td>\n",
       "      <td>1</td>\n",
       "      <td>26</td>\n",
       "      <td>13</td>\n",
       "      <td>21</td>\n",
       "    </tr>\n",
       "    <tr>\n",
       "      <th>3</th>\n",
       "      <td>16222</td>\n",
       "      <td>2014-01-23</td>\n",
       "      <td>SCH</td>\n",
       "      <td>0</td>\n",
       "      <td>53</td>\n",
       "      <td>0</td>\n",
       "      <td>0</td>\n",
       "      <td>0.000000</td>\n",
       "      <td>0</td>\n",
       "      <td>-2.057471</td>\n",
       "      <td>...</td>\n",
       "      <td>8</td>\n",
       "      <td>10</td>\n",
       "      <td>17</td>\n",
       "      <td>8</td>\n",
       "      <td>2</td>\n",
       "      <td>3</td>\n",
       "      <td>0</td>\n",
       "      <td>17</td>\n",
       "      <td>8</td>\n",
       "      <td>12</td>\n",
       "    </tr>\n",
       "    <tr>\n",
       "      <th>4</th>\n",
       "      <td>101655</td>\n",
       "      <td>2014-04-18</td>\n",
       "      <td>GRD</td>\n",
       "      <td>1</td>\n",
       "      <td>48</td>\n",
       "      <td>0</td>\n",
       "      <td>0</td>\n",
       "      <td>0.000000</td>\n",
       "      <td>1</td>\n",
       "      <td>-1.244723</td>\n",
       "      <td>...</td>\n",
       "      <td>8</td>\n",
       "      <td>11</td>\n",
       "      <td>18</td>\n",
       "      <td>11</td>\n",
       "      <td>3</td>\n",
       "      <td>4</td>\n",
       "      <td>3</td>\n",
       "      <td>25</td>\n",
       "      <td>15</td>\n",
       "      <td>19</td>\n",
       "    </tr>\n",
       "  </tbody>\n",
       "</table>\n",
       "<p>5 rows × 47 columns</p>\n",
       "</div>"
      ],
      "text/plain": [
       "   client_id   app_date education  sex  age  car  car_type  decline_app_cnt  \\\n",
       "0      25905 2014-02-01       SCH    1   62    1         1         0.000000   \n",
       "1      63161 2014-03-12       SCH    0   59    0         0         0.000000   \n",
       "2      25887 2014-02-01       SCH    1   25    1         0         1.098612   \n",
       "3      16222 2014-01-23       SCH    0   53    0         0         0.000000   \n",
       "4     101655 2014-04-18       GRD    1   48    0         0         0.000000   \n",
       "\n",
       "   good_work  score_bki  ...  work_address + sna  work_address + first_time  \\\n",
       "0          0  -2.008753  ...                   7                          4   \n",
       "1          0  -1.532276  ...                  11                          8   \n",
       "2          0  -1.408142  ...                   4                          7   \n",
       "3          0  -2.057471  ...                   8                         10   \n",
       "4          1  -1.244723  ...                   8                         11   \n",
       "\n",
       "   work_address + day_week  work_address + month_num  sna + first_time  \\\n",
       "0                       12                         5                12   \n",
       "1                       16                        10                12   \n",
       "2                       12                         5                 3   \n",
       "3                       17                         8                 2   \n",
       "4                       18                        11                 3   \n",
       "\n",
       "   sna + day_week  sna + month_num  first_time + day_week  \\\n",
       "0              26               13                      5   \n",
       "1              23               14                      2   \n",
       "2               5                1                     26   \n",
       "3               3                0                     17   \n",
       "4               4                3                     25   \n",
       "\n",
       "   first_time + month_num  day_week + month_num  \n",
       "0                       1                    21  \n",
       "1                       2                    10  \n",
       "2                      13                    21  \n",
       "3                       8                    12  \n",
       "4                      15                    19  \n",
       "\n",
       "[5 rows x 47 columns]"
      ]
     },
     "execution_count": 36,
     "metadata": {},
     "output_type": "execute_result"
    }
   ],
   "source": [
    "# Для бинарных признаков train для преобразования к численным значениям используем LabelEncoder\n",
    "label_encoder = LabelEncoder()\n",
    "\n",
    "for column in bin_cols:\n",
    "    train[column] = label_encoder.fit_transform(train[column])\n",
    "    \n",
    "# убедимся в преобразовании    \n",
    "train.head()"
   ]
  },
  {
   "cell_type": "code",
   "execution_count": 37,
   "id": "33d5f1e2",
   "metadata": {
    "execution": {
     "iopub.execute_input": "2021-08-09T14:56:07.076539Z",
     "iopub.status.busy": "2021-08-09T14:56:07.075841Z",
     "iopub.status.idle": "2021-08-09T14:56:07.129996Z",
     "shell.execute_reply": "2021-08-09T14:56:07.130454Z",
     "shell.execute_reply.started": "2021-08-09T14:50:43.958104Z"
    },
    "papermill": {
     "duration": 0.115777,
     "end_time": "2021-08-09T14:56:07.130635",
     "exception": false,
     "start_time": "2021-08-09T14:56:07.014858",
     "status": "completed"
    },
    "tags": []
   },
   "outputs": [
    {
     "data": {
      "text/html": [
       "<div>\n",
       "<style scoped>\n",
       "    .dataframe tbody tr th:only-of-type {\n",
       "        vertical-align: middle;\n",
       "    }\n",
       "\n",
       "    .dataframe tbody tr th {\n",
       "        vertical-align: top;\n",
       "    }\n",
       "\n",
       "    .dataframe thead th {\n",
       "        text-align: right;\n",
       "    }\n",
       "</style>\n",
       "<table border=\"1\" class=\"dataframe\">\n",
       "  <thead>\n",
       "    <tr style=\"text-align: right;\">\n",
       "      <th></th>\n",
       "      <th>client_id</th>\n",
       "      <th>app_date</th>\n",
       "      <th>education</th>\n",
       "      <th>sex</th>\n",
       "      <th>age</th>\n",
       "      <th>car</th>\n",
       "      <th>car_type</th>\n",
       "      <th>decline_app_cnt</th>\n",
       "      <th>good_work</th>\n",
       "      <th>score_bki</th>\n",
       "      <th>...</th>\n",
       "      <th>work_address + sna</th>\n",
       "      <th>work_address + first_time</th>\n",
       "      <th>work_address + day_week</th>\n",
       "      <th>work_address + month_num</th>\n",
       "      <th>sna + first_time</th>\n",
       "      <th>sna + day_week</th>\n",
       "      <th>sna + month_num</th>\n",
       "      <th>first_time + day_week</th>\n",
       "      <th>first_time + month_num</th>\n",
       "      <th>day_week + month_num</th>\n",
       "    </tr>\n",
       "  </thead>\n",
       "  <tbody>\n",
       "    <tr>\n",
       "      <th>0</th>\n",
       "      <td>74835</td>\n",
       "      <td>2014-03-22</td>\n",
       "      <td>GRD</td>\n",
       "      <td>1</td>\n",
       "      <td>29</td>\n",
       "      <td>1</td>\n",
       "      <td>1</td>\n",
       "      <td>0.000000</td>\n",
       "      <td>0</td>\n",
       "      <td>-2.271884</td>\n",
       "      <td>...</td>\n",
       "      <td>4</td>\n",
       "      <td>7</td>\n",
       "      <td>12</td>\n",
       "      <td>6</td>\n",
       "      <td>3</td>\n",
       "      <td>5</td>\n",
       "      <td>2</td>\n",
       "      <td>26</td>\n",
       "      <td>14</td>\n",
       "      <td>22</td>\n",
       "    </tr>\n",
       "    <tr>\n",
       "      <th>1</th>\n",
       "      <td>17527</td>\n",
       "      <td>2014-01-24</td>\n",
       "      <td>SCH</td>\n",
       "      <td>0</td>\n",
       "      <td>39</td>\n",
       "      <td>0</td>\n",
       "      <td>0</td>\n",
       "      <td>1.791759</td>\n",
       "      <td>0</td>\n",
       "      <td>-1.504999</td>\n",
       "      <td>...</td>\n",
       "      <td>7</td>\n",
       "      <td>6</td>\n",
       "      <td>11</td>\n",
       "      <td>4</td>\n",
       "      <td>14</td>\n",
       "      <td>25</td>\n",
       "      <td>12</td>\n",
       "      <td>18</td>\n",
       "      <td>8</td>\n",
       "      <td>16</td>\n",
       "    </tr>\n",
       "    <tr>\n",
       "      <th>2</th>\n",
       "      <td>75683</td>\n",
       "      <td>2014-03-23</td>\n",
       "      <td>UGR</td>\n",
       "      <td>1</td>\n",
       "      <td>50</td>\n",
       "      <td>1</td>\n",
       "      <td>1</td>\n",
       "      <td>0.000000</td>\n",
       "      <td>0</td>\n",
       "      <td>-1.691339</td>\n",
       "      <td>...</td>\n",
       "      <td>4</td>\n",
       "      <td>6</td>\n",
       "      <td>13</td>\n",
       "      <td>6</td>\n",
       "      <td>2</td>\n",
       "      <td>6</td>\n",
       "      <td>2</td>\n",
       "      <td>20</td>\n",
       "      <td>10</td>\n",
       "      <td>26</td>\n",
       "    </tr>\n",
       "    <tr>\n",
       "      <th>3</th>\n",
       "      <td>26883</td>\n",
       "      <td>2014-02-03</td>\n",
       "      <td>SCH</td>\n",
       "      <td>1</td>\n",
       "      <td>56</td>\n",
       "      <td>0</td>\n",
       "      <td>0</td>\n",
       "      <td>0.000000</td>\n",
       "      <td>0</td>\n",
       "      <td>-2.374182</td>\n",
       "      <td>...</td>\n",
       "      <td>4</td>\n",
       "      <td>6</td>\n",
       "      <td>7</td>\n",
       "      <td>5</td>\n",
       "      <td>2</td>\n",
       "      <td>0</td>\n",
       "      <td>1</td>\n",
       "      <td>14</td>\n",
       "      <td>9</td>\n",
       "      <td>1</td>\n",
       "    </tr>\n",
       "    <tr>\n",
       "      <th>4</th>\n",
       "      <td>28862</td>\n",
       "      <td>2014-02-04</td>\n",
       "      <td>GRD</td>\n",
       "      <td>0</td>\n",
       "      <td>38</td>\n",
       "      <td>0</td>\n",
       "      <td>0</td>\n",
       "      <td>0.000000</td>\n",
       "      <td>0</td>\n",
       "      <td>-2.487502</td>\n",
       "      <td>...</td>\n",
       "      <td>8</td>\n",
       "      <td>10</td>\n",
       "      <td>15</td>\n",
       "      <td>9</td>\n",
       "      <td>2</td>\n",
       "      <td>1</td>\n",
       "      <td>1</td>\n",
       "      <td>15</td>\n",
       "      <td>9</td>\n",
       "      <td>5</td>\n",
       "    </tr>\n",
       "  </tbody>\n",
       "</table>\n",
       "<p>5 rows × 46 columns</p>\n",
       "</div>"
      ],
      "text/plain": [
       "   client_id   app_date education  sex  age  car  car_type  decline_app_cnt  \\\n",
       "0      74835 2014-03-22       GRD    1   29    1         1         0.000000   \n",
       "1      17527 2014-01-24       SCH    0   39    0         0         1.791759   \n",
       "2      75683 2014-03-23       UGR    1   50    1         1         0.000000   \n",
       "3      26883 2014-02-03       SCH    1   56    0         0         0.000000   \n",
       "4      28862 2014-02-04       GRD    0   38    0         0         0.000000   \n",
       "\n",
       "   good_work  score_bki  ...  work_address + sna  work_address + first_time  \\\n",
       "0          0  -2.271884  ...                   4                          7   \n",
       "1          0  -1.504999  ...                   7                          6   \n",
       "2          0  -1.691339  ...                   4                          6   \n",
       "3          0  -2.374182  ...                   4                          6   \n",
       "4          0  -2.487502  ...                   8                         10   \n",
       "\n",
       "   work_address + day_week  work_address + month_num  sna + first_time  \\\n",
       "0                       12                         6                 3   \n",
       "1                       11                         4                14   \n",
       "2                       13                         6                 2   \n",
       "3                        7                         5                 2   \n",
       "4                       15                         9                 2   \n",
       "\n",
       "   sna + day_week  sna + month_num  first_time + day_week  \\\n",
       "0               5                2                     26   \n",
       "1              25               12                     18   \n",
       "2               6                2                     20   \n",
       "3               0                1                     14   \n",
       "4               1                1                     15   \n",
       "\n",
       "   first_time + month_num  day_week + month_num  \n",
       "0                      14                    22  \n",
       "1                       8                    16  \n",
       "2                      10                    26  \n",
       "3                       9                     1  \n",
       "4                       9                     5  \n",
       "\n",
       "[5 rows x 46 columns]"
      ]
     },
     "execution_count": 37,
     "metadata": {},
     "output_type": "execute_result"
    }
   ],
   "source": [
    "# Для бинарных признаков validation для преобразования к численным значениям используем LabelEncoder\n",
    "for column in bin_cols:\n",
    "    test[column] = label_encoder.fit_transform(test[column])\n",
    "    \n",
    "# убедимся в преобразовании    \n",
    "test.head()"
   ]
  },
  {
   "cell_type": "markdown",
   "id": "b93e381e",
   "metadata": {
    "papermill": {
     "duration": 0.057511,
     "end_time": "2021-08-09T14:56:07.247254",
     "exception": false,
     "start_time": "2021-08-09T14:56:07.189743",
     "status": "completed"
    },
    "tags": []
   },
   "source": [
    "### **3b. Значимость категориальных переменных**"
   ]
  },
  {
   "cell_type": "markdown",
   "id": "2bb58cc9",
   "metadata": {
    "papermill": {
     "duration": 0.057159,
     "end_time": "2021-08-09T14:56:07.362275",
     "exception": false,
     "start_time": "2021-08-09T14:56:07.305116",
     "status": "completed"
    },
    "tags": []
   },
   "source": [
    "Для оценки значимости категориальных и бинарных переменных - функция **mutual_info_classif** из библиотеки **sklearn**  \n",
    "(Прим.: 1. Непараметрические методы, основанные на оценке энтропии в группах категориальных переменных; 2. **mutual_info_classif** сначала требует, чтобы категориальные значения были сопоставлены с целочисленными значениями."
   ]
  },
  {
   "cell_type": "code",
   "execution_count": 38,
   "id": "ebf290a1",
   "metadata": {
    "execution": {
     "iopub.execute_input": "2021-08-09T14:56:07.480536Z",
     "iopub.status.busy": "2021-08-09T14:56:07.479917Z",
     "iopub.status.idle": "2021-08-09T14:56:07.502491Z",
     "shell.execute_reply": "2021-08-09T14:56:07.502941Z",
     "shell.execute_reply.started": "2021-08-09T14:50:44.039685Z"
    },
    "papermill": {
     "duration": 0.083353,
     "end_time": "2021-08-09T14:56:07.503130",
     "exception": false,
     "start_time": "2021-08-09T14:56:07.419777",
     "status": "completed"
    },
    "tags": []
   },
   "outputs": [],
   "source": [
    "# преобразуем education к целочисленным значениям через LabelEncoder т.к. уникальные значения \n",
    "# для education в train и validation данные одинаковые и новые уникальные значения не предполагаются.\n",
    "train['education'] = label_encoder.fit_transform(train['education'])\n",
    "test['education'] = label_encoder.fit_transform(test['education'])"
   ]
  },
  {
   "cell_type": "code",
   "execution_count": 39,
   "id": "3721972f",
   "metadata": {
    "execution": {
     "iopub.execute_input": "2021-08-09T14:56:07.621894Z",
     "iopub.status.busy": "2021-08-09T14:56:07.620956Z",
     "iopub.status.idle": "2021-08-09T14:56:08.429064Z",
     "shell.execute_reply": "2021-08-09T14:56:08.428470Z",
     "shell.execute_reply.started": "2021-08-09T14:50:44.084114Z"
    },
    "papermill": {
     "duration": 0.868328,
     "end_time": "2021-08-09T14:56:08.429205",
     "exception": false,
     "start_time": "2021-08-09T14:56:07.560877",
     "status": "completed"
    },
    "tags": []
   },
   "outputs": [
    {
     "data": {
      "text/plain": [
       "<AxesSubplot:>"
      ]
     },
     "execution_count": 39,
     "metadata": {},
     "output_type": "execute_result"
    },
    {
     "data": {
      "image/png": "[encoded data removed]",
      "text/plain": [
       "<Figure size 576x576 with 1 Axes>"
      ]
     },
     "metadata": {
      "needs_background": "light"
     },
     "output_type": "display_data"
    }
   ],
   "source": [
    "imp_cat = Series(mutual_info_classif(train[bin_cols + cat_cols], \n",
    "                                     train['default'], discrete_features=True), \n",
    "                 index=bin_cols + cat_cols)\n",
    "imp_cat.sort_values(inplace=True)\n",
    "imp_cat.plot(kind='barh', figsize=(8, np.round(len(imp_cat)/4, 0)))"
   ]
  },
  {
   "cell_type": "markdown",
   "id": "4704ee8e",
   "metadata": {
    "papermill": {
     "duration": 0.061427,
     "end_time": "2021-08-09T14:56:08.551189",
     "exception": false,
     "start_time": "2021-08-09T14:56:08.489762",
     "status": "completed"
    },
    "tags": []
   },
   "source": [
    "## **4. Подготовка данных к машинному обучению**"
   ]
  },
  {
   "cell_type": "code",
   "execution_count": 40,
   "id": "9d0baf08",
   "metadata": {
    "execution": {
     "iopub.execute_input": "2021-08-09T14:56:08.682791Z",
     "iopub.status.busy": "2021-08-09T14:56:08.682050Z",
     "iopub.status.idle": "2021-08-09T14:56:09.540440Z",
     "shell.execute_reply": "2021-08-09T14:56:09.540886Z",
     "shell.execute_reply.started": "2021-08-09T14:50:44.907037Z"
    },
    "papermill": {
     "duration": 0.930353,
     "end_time": "2021-08-09T14:56:09.541048",
     "exception": false,
     "start_time": "2021-08-09T14:56:08.610695",
     "status": "completed"
    },
    "tags": []
   },
   "outputs": [
    {
     "data": {
      "text/plain": [
       "((73799, 401), (36349, 401))"
      ]
     },
     "execution_count": 40,
     "metadata": {},
     "output_type": "execute_result"
    }
   ],
   "source": [
    "# dummy-кодирование для категориальных переменных\n",
    "X_cat_train = OneHotEncoder(sparse = False).fit_transform(train[list(set(cat_cols)-\n",
    "                                                                     set(['education', 'sna']))].values)\n",
    "X_cat_test = OneHotEncoder(sparse = False).fit_transform(test[list(set(cat_cols)-\n",
    "                                                                   set(['education', 'sna']))].values)\n",
    "X_cat_train.shape, X_cat_test.shape\n",
    "\n",
    "# исключаем из OneHotEncoder признаки ['education', 'sna'], т.к. оставим их, как ординальные переменные"
   ]
  },
  {
   "cell_type": "code",
   "execution_count": 41,
   "id": "da22b89c",
   "metadata": {
    "execution": {
     "iopub.execute_input": "2021-08-09T14:56:09.668634Z",
     "iopub.status.busy": "2021-08-09T14:56:09.667957Z",
     "iopub.status.idle": "2021-08-09T14:56:09.692291Z",
     "shell.execute_reply": "2021-08-09T14:56:09.691800Z",
     "shell.execute_reply.started": "2021-08-09T14:50:45.745232Z"
    },
    "papermill": {
     "duration": 0.090918,
     "end_time": "2021-08-09T14:56:09.692452",
     "exception": false,
     "start_time": "2021-08-09T14:56:09.601534",
     "status": "completed"
    },
    "tags": []
   },
   "outputs": [],
   "source": [
    "# Стандартизация числовых переменных\n",
    "X_num_train = StandardScaler().fit_transform(train[num_cols].values)\n",
    "X_num_test = StandardScaler().fit_transform(test[num_cols].values) \n",
    "\n",
    "\n",
    "#std_scaler = StandardScaler()\n",
    "#std_scaler.fit(train[num_cols].values)\n",
    "#X_num_train = std_scaler.transform(train[num_cols].values)\n",
    "#X_num_test = std_scaler.transform(test[num_cols].values)"
   ]
  },
  {
   "cell_type": "code",
   "execution_count": 42,
   "id": "71cb0383",
   "metadata": {
    "execution": {
     "iopub.execute_input": "2021-08-09T14:56:09.820500Z",
     "iopub.status.busy": "2021-08-09T14:56:09.819785Z",
     "iopub.status.idle": "2021-08-09T14:56:10.015007Z",
     "shell.execute_reply": "2021-08-09T14:56:10.014339Z",
     "shell.execute_reply.started": "2021-08-09T14:50:45.776285Z"
    },
    "papermill": {
     "duration": 0.263076,
     "end_time": "2021-08-09T14:56:10.015148",
     "exception": false,
     "start_time": "2021-08-09T14:56:09.752072",
     "status": "completed"
    },
    "tags": []
   },
   "outputs": [],
   "source": [
    "# Объединяем стандартизованные числовые, бинарные и закодированные категориальные переменные \n",
    "# в одно признаковое пространство\n",
    "# данные для тренировки модели:\n",
    "X = np.hstack([X_num_train, train[bin_cols].values, \n",
    "               X_cat_train, train[['education', 'sna']].values]) \n",
    "\n",
    "# валидационные (не тестовые) данные: \n",
    "X_val = np.hstack([X_num_test, test[bin_cols].values, \n",
    "                   X_cat_test, test[['education', 'sna']].values]) \n",
    "Y = train['default'].values"
   ]
  },
  {
   "cell_type": "code",
   "execution_count": 43,
   "id": "4f1131cf",
   "metadata": {
    "execution": {
     "iopub.execute_input": "2021-08-09T14:56:10.141203Z",
     "iopub.status.busy": "2021-08-09T14:56:10.139574Z",
     "iopub.status.idle": "2021-08-09T14:56:10.259598Z",
     "shell.execute_reply": "2021-08-09T14:56:10.259037Z",
     "shell.execute_reply.started": "2021-08-09T14:50:45.977038Z"
    },
    "papermill": {
     "duration": 0.184935,
     "end_time": "2021-08-09T14:56:10.259740",
     "exception": false,
     "start_time": "2021-08-09T14:56:10.074805",
     "status": "completed"
    },
    "tags": []
   },
   "outputs": [],
   "source": [
    "# Разделим данные для обучения (параметры выбраны для проверки решения)\n",
    "# Примечание: ранее был выбран лучший test_size для параметров модели по умолчанию и 'liblinear'\n",
    "test_size = 0.27\n",
    "r_state = 123\n",
    "X_train, X_test, y_train, y_test = train_test_split(X, Y, \n",
    "                                                    test_size=test_size, \n",
    "                                                    random_state=r_state)"
   ]
  },
  {
   "cell_type": "markdown",
   "id": "1d74b6da",
   "metadata": {
    "papermill": {
     "duration": 0.059455,
     "end_time": "2021-08-09T14:56:10.379134",
     "exception": false,
     "start_time": "2021-08-09T14:56:10.319679",
     "status": "completed"
    },
    "tags": []
   },
   "source": [
    "## **5. Обучение модели**"
   ]
  },
  {
   "cell_type": "code",
   "execution_count": 44,
   "id": "d35c4e26",
   "metadata": {
    "execution": {
     "iopub.execute_input": "2021-08-09T14:56:10.504217Z",
     "iopub.status.busy": "2021-08-09T14:56:10.503569Z",
     "iopub.status.idle": "2021-08-09T14:56:18.765070Z",
     "shell.execute_reply": "2021-08-09T14:56:18.765615Z",
     "shell.execute_reply.started": "2021-08-09T14:54:55.453339Z"
    },
    "papermill": {
     "duration": 8.327342,
     "end_time": "2021-08-09T14:56:18.765796",
     "exception": false,
     "start_time": "2021-08-09T14:56:10.438454",
     "status": "completed"
    },
    "tags": []
   },
   "outputs": [
    {
     "data": {
      "image/png": "[encoded data removed]",
      "text/plain": [
       "<Figure size 432x288 with 1 Axes>"
      ]
     },
     "metadata": {
      "needs_background": "light"
     },
     "output_type": "display_data"
    }
   ],
   "source": [
    "model = LogisticRegression(penalty = 'elasticnet', \n",
    "                           solver='saga', \n",
    "                           l1_ratio = 0.085, \n",
    "                           C=0.006) \n",
    "\n",
    "model.fit(X_train, y_train)\n",
    "\n",
    "probs = model.predict_proba(X_test)\n",
    "probs = probs[:,1]\n",
    "\n",
    "fpr, tpr, threshold = roc_curve(y_test, probs)\n",
    "roc_auc = roc_auc_score(y_test, probs)\n",
    "\n",
    "plt.figure()\n",
    "plt.plot([0, 1], label='Baseline', linestyle='--')\n",
    "plt.plot(fpr, tpr, label = 'Regression')\n",
    "plt.title('Logistic Regression ROC AUC = %0.6f' % roc_auc)\n",
    "plt.ylabel('True Positive Rate')\n",
    "plt.xlabel('False Positive Rate')\n",
    "plt.legend(loc = 'lower right')\n",
    "plt.show()"
   ]
  },
  {
   "cell_type": "code",
   "execution_count": 45,
   "id": "040d5a29",
   "metadata": {
    "execution": {
     "iopub.execute_input": "2021-08-09T14:56:18.889896Z",
     "iopub.status.busy": "2021-08-09T14:56:18.889221Z",
     "iopub.status.idle": "2021-08-09T14:56:18.932846Z",
     "shell.execute_reply": "2021-08-09T14:56:18.933724Z",
     "shell.execute_reply.started": "2021-08-09T14:50:52.158648Z"
    },
    "papermill": {
     "duration": 0.107856,
     "end_time": "2021-08-09T14:56:18.933998",
     "exception": false,
     "start_time": "2021-08-09T14:56:18.826142",
     "status": "completed"
    },
    "tags": []
   },
   "outputs": [
    {
     "data": {
      "text/html": [
       "<div>\n",
       "<style scoped>\n",
       "    .dataframe tbody tr th:only-of-type {\n",
       "        vertical-align: middle;\n",
       "    }\n",
       "\n",
       "    .dataframe tbody tr th {\n",
       "        vertical-align: top;\n",
       "    }\n",
       "\n",
       "    .dataframe thead th {\n",
       "        text-align: right;\n",
       "    }\n",
       "</style>\n",
       "<table border=\"1\" class=\"dataframe\">\n",
       "  <thead>\n",
       "    <tr style=\"text-align: right;\">\n",
       "      <th></th>\n",
       "      <th>client_id</th>\n",
       "      <th>default</th>\n",
       "    </tr>\n",
       "  </thead>\n",
       "  <tbody>\n",
       "    <tr>\n",
       "      <th>0</th>\n",
       "      <td>74835</td>\n",
       "      <td>0.046467</td>\n",
       "    </tr>\n",
       "    <tr>\n",
       "      <th>1</th>\n",
       "      <td>17527</td>\n",
       "      <td>0.308774</td>\n",
       "    </tr>\n",
       "    <tr>\n",
       "      <th>2</th>\n",
       "      <td>75683</td>\n",
       "      <td>0.078301</td>\n",
       "    </tr>\n",
       "    <tr>\n",
       "      <th>3</th>\n",
       "      <td>26883</td>\n",
       "      <td>0.088594</td>\n",
       "    </tr>\n",
       "    <tr>\n",
       "      <th>4</th>\n",
       "      <td>28862</td>\n",
       "      <td>0.027997</td>\n",
       "    </tr>\n",
       "  </tbody>\n",
       "</table>\n",
       "</div>"
      ],
      "text/plain": [
       "   client_id   default\n",
       "0      74835  0.046467\n",
       "1      17527  0.308774\n",
       "2      75683  0.078301\n",
       "3      26883  0.088594\n",
       "4      28862  0.027997"
      ]
     },
     "execution_count": 45,
     "metadata": {},
     "output_type": "execute_result"
    }
   ],
   "source": [
    "vals = model.predict_proba(X_val)\n",
    "vals = vals[:,1]\n",
    "\n",
    "df_submission = pd.DataFrame()\n",
    "df_submission['client_id'] = test.client_id.values\n",
    "df_submission['default'] = vals\n",
    "df_submission.head()"
   ]
  },
  {
   "cell_type": "code",
   "execution_count": 46,
   "id": "0a17b683",
   "metadata": {
    "execution": {
     "iopub.execute_input": "2021-08-09T14:56:19.108342Z",
     "iopub.status.busy": "2021-08-09T14:56:19.107703Z",
     "iopub.status.idle": "2021-08-09T14:56:19.203157Z",
     "shell.execute_reply": "2021-08-09T14:56:19.202611Z",
     "shell.execute_reply.started": "2021-08-09T14:50:52.202316Z"
    },
    "papermill": {
     "duration": 0.160024,
     "end_time": "2021-08-09T14:56:19.203296",
     "exception": false,
     "start_time": "2021-08-09T14:56:19.043272",
     "status": "completed"
    },
    "tags": []
   },
   "outputs": [],
   "source": [
    "df_submission.to_csv('/kaggle/working/submission.csv', index=False)"
   ]
  },
  {
   "cell_type": "markdown",
   "id": "64b3ee2e",
   "metadata": {
    "execution": {
     "iopub.execute_input": "2021-08-09T10:55:20.006138Z",
     "iopub.status.busy": "2021-08-09T10:55:20.005806Z",
     "iopub.status.idle": "2021-08-09T10:55:20.098635Z",
     "shell.execute_reply": "2021-08-09T10:55:20.097770Z",
     "shell.execute_reply.started": "2021-08-09T10:55:20.006110Z"
    },
    "papermill": {
     "duration": 0.060822,
     "end_time": "2021-08-09T14:56:19.325880",
     "exception": false,
     "start_time": "2021-08-09T14:56:19.265058",
     "status": "completed"
    },
    "tags": []
   },
   "source": [
    "df_submission.to_csv('/kaggle/working/best_model_submission.csv', index=False)"
   ]
  }
 ],
 "metadata": {
  "kernelspec": {
   "display_name": "Python 3",
   "language": "python",
   "name": "python3"
  },
  "language_info": {
   "codemirror_mode": {
    "name": "ipython",
    "version": 3
   },
   "file_extension": ".py",
   "mimetype": "text/x-python",
   "name": "python",
   "nbconvert_exporter": "python",
   "pygments_lexer": "ipython3",
   "version": "3.7.10"
  },
  "papermill": {
   "default_parameters": {},
   "duration": 58.83814,
   "end_time": "2021-08-09T14:56:21.011708",
   "environment_variables": {},
   "exception": null,
   "input_path": "__notebook__.ipynb",
   "output_path": "__notebook__.ipynb",
   "parameters": {},
   "start_time": "2021-08-09T14:55:22.173568",
   "version": "2.3.3"
  }
 },
 "nbformat": 4,
 "nbformat_minor": 5
}
